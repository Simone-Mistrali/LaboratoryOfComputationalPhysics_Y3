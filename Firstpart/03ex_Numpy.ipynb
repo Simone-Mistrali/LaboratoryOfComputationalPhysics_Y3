{
 "cells": [
  {
   "cell_type": "markdown",
   "metadata": {},
   "source": [
    "# Import the library"
   ]
  },
  {
   "cell_type": "code",
   "execution_count": 2,
   "metadata": {
    "ExecuteTime": {
     "end_time": "2020-12-03T10:03:05.002758Z",
     "start_time": "2020-12-03T10:03:05.000182Z"
    }
   },
   "outputs": [],
   "source": [
    "import numpy as np\n",
    "import numpy.random as npr"
   ]
  },
  {
   "cell_type": "markdown",
   "metadata": {},
   "source": [
    "### Numpy basics"
   ]
  },
  {
   "cell_type": "markdown",
   "metadata": {},
   "source": [
    "1\\. Find the row, column and overall means for the following matrix:\n",
    "\n",
    "```python\n",
    "m = np.arange(12).reshape((3,4))\n",
    "```"
   ]
  },
  {
   "cell_type": "code",
   "execution_count": 3,
   "metadata": {
    "ExecuteTime": {
     "end_time": "2020-12-03T10:03:08.537705Z",
     "start_time": "2020-12-03T10:03:08.533115Z"
    }
   },
   "outputs": [
    {
     "name": "stdout",
     "output_type": "stream",
     "text": [
      "Row mean\n",
      "1.5\n",
      "5.5\n",
      "9.5\n",
      "Row column\n",
      "4.0\n",
      "5.0\n",
      "6.0\n",
      "7.0\n",
      "Mean\n",
      "5.5\n"
     ]
    }
   ],
   "source": [
    "m = np.arange(12).reshape((3,4))\n",
    "print(\"Row mean\")\n",
    "for i in range(3):\n",
    "    print(np.mean(m[i,:]))\n",
    "print(\"Row column\")\n",
    "for i in range(4):\n",
    "    print(np.mean(m[:,i]))\n",
    "print(\"Mean\")\n",
    "print(np.mean(m))"
   ]
  },
  {
   "cell_type": "markdown",
   "metadata": {},
   "source": [
    "2\\. Find the outer product of the following two vecotrs\n",
    "\n",
    "```python\n",
    "u = np.array([1,3,5,7])\n",
    "v = np.array([2,4,6,8])\n",
    "```\n",
    "\n",
    "Do this in the following ways:\n",
    "\n",
    "   * Using the function outer in numpy\n",
    "   * Using a nested for loop or list comprehension\n",
    "   * Using numpy broadcasting operatoins\n"
   ]
  },
  {
   "cell_type": "code",
   "execution_count": 4,
   "metadata": {
    "ExecuteTime": {
     "end_time": "2020-12-03T10:03:10.724389Z",
     "start_time": "2020-12-03T10:03:10.717872Z"
    }
   },
   "outputs": [
    {
     "name": "stdout",
     "output_type": "stream",
     "text": [
      "[[ 2  4  6  8]\n",
      " [ 6 12 18 24]\n",
      " [10 20 30 40]\n",
      " [14 28 42 56]]\n"
     ]
    }
   ],
   "source": [
    "u = np.array([1,3,5,7])\n",
    "v = np.array([2,4,6,8])\n",
    "\n",
    "out = np.zeros((4,4))\n",
    "for i in range(len(u)):\n",
    "    for j in range(len(u)):\n",
    "        out[i,j] = u[i]*v[j]\n",
    "uu = u.reshape(4,1)\n",
    "print(uu*v)"
   ]
  },
  {
   "cell_type": "markdown",
   "metadata": {},
   "source": [
    "3\\. Create a 10 by 6 matrix of random uniform numbers. Set all rows with any entry less than 0.1 to be zero\n",
    "\n",
    "Hint: Use the following numpy functions - np.random.random, np.any as well as Boolean indexing and the axis argument."
   ]
  },
  {
   "cell_type": "code",
   "execution_count": 5,
   "metadata": {
    "ExecuteTime": {
     "end_time": "2020-12-03T10:03:12.759664Z",
     "start_time": "2020-12-03T10:03:12.754086Z"
    }
   },
   "outputs": [],
   "source": [
    "x = np.array(npr.random((10,6)))\n",
    "for i in range(10):\n",
    "    if np.any([j<=0.1 for j in x[i,:]]):\n",
    "        x[i,:] = 0"
   ]
  },
  {
   "cell_type": "markdown",
   "metadata": {},
   "source": [
    "4\\. Use np.linspace to create an array of 100 numbers between 0 and 2π (includsive).\n",
    "\n",
    "  1. Extract every 10th element using slice notation\n",
    "  2. Reverse the array using slice notation\n",
    "  3. Extract elements where the absolute difference between the sine and cosine functions evaluated at that element is less than 0.1\n",
    "  4. Make a plot showing the sin and cos functions and indicate where they are close"
   ]
  },
  {
   "cell_type": "code",
   "execution_count": 15,
   "metadata": {
    "ExecuteTime": {
     "end_time": "2020-12-03T10:04:03.904125Z",
     "start_time": "2020-12-03T10:04:03.810160Z"
    }
   },
   "outputs": [
    {
     "data": {
      "image/png": "[encoded data removed]",
      "text/plain": [
       "<Figure size 432x288 with 1 Axes>"
      ]
     },
     "metadata": {
      "needs_background": "light"
     },
     "output_type": "display_data"
    }
   ],
   "source": [
    "import matplotlib.pyplot as plt\n",
    "%matplotlib inline\n",
    "x = np.linspace(0,2*np.pi,100)\n",
    "# 1.\n",
    "d = x[::10] \n",
    "# 2.\n",
    "f = x[::-1]\n",
    "# 3.\n",
    "mask = np.abs(np.sin(x)-np.cos(x))<=0.1\n",
    "g    = x[mask]\n",
    "# 4.\n",
    "plt.plot(x,np.sin(x))\n",
    "plt.plot(x,np.cos(x))\n",
    "# Where abs(sin(x[i]-cos(x[i]))) is less than 0.1 \n",
    "plt.scatter(x[mask],np.sin(x[mask]))\n",
    "plt.show()"
   ]
  },
  {
   "cell_type": "markdown",
   "metadata": {},
   "source": [
    "5\\. Create a matrix that shows the 10 by 10 multiplication table.\n",
    "\n",
    " * Find the trace of the matrix\n",
    " * Extract the anto-diagonal (this should be ```array([10, 18, 24, 28, 30, 30, 28, 24, 18, 10])```)\n",
    " * Extract the diagnoal offset by 1 upwards (this should be ```array([ 2,  6, 12, 20, 30, 42, 56, 72, 90])```)"
   ]
  },
  {
   "cell_type": "code",
   "execution_count": 7,
   "metadata": {
    "ExecuteTime": {
     "end_time": "2020-12-03T10:03:18.501120Z",
     "start_time": "2020-12-03T10:03:18.494334Z"
    }
   },
   "outputs": [],
   "source": [
    "mult_table = np.array(np.arange(1,11))\n",
    "for i in range(2,11):\n",
    "    mult_table = np.vstack((mult_table,np.arange(i,i*10+1,i)))\n",
    "\n",
    "e         = np.trace(mult_table)\n",
    "antidiag  = [mult_table[i,j] for i in range(10) for j in range(10) if i+j == 9]\n",
    "upperdiag = [mult_table[i,j+1] for i in range(10) for j in range(10) if i == j and i!=9]"
   ]
  },
  {
   "cell_type": "markdown",
   "metadata": {},
   "source": [
    "6\\. Use broadcasting to create a grid of distances\n",
    "\n",
    "Route 66 crosses the following cities in the US: Chicago, Springfield, Saint-Louis, Tulsa, Oklahoma City, Amarillo, Santa Fe, Albuquerque, Flagstaff, Los Angeles\n",
    "The corresponding positions in miles are: 0, 198, 303, 736, 871, 1175, 1475, 1544, 1913, 2448\n",
    "\n",
    "  * Construct a 2D grid of distances among each city along Route 66\n",
    "  * Convert that in km (those savages...)"
   ]
  },
  {
   "cell_type": "code",
   "execution_count": 8,
   "metadata": {
    "ExecuteTime": {
     "end_time": "2020-12-03T10:03:21.215408Z",
     "start_time": "2020-12-03T10:03:21.212404Z"
    }
   },
   "outputs": [],
   "source": [
    "position  = np.array([0, 198, 303, 736, 871, 1175, 1475, 1544, 1913, 2448])\n",
    "distances = abs(np.reshape(position, (len(position),1))-position)\n",
    "distancesSI = distances*1.60934"
   ]
  },
  {
   "cell_type": "markdown",
   "metadata": {},
   "source": [
    "7\\. Prime numbers sieve: compute the prime numbers in the 0-N (N=99 to start with) range with a sieve (mask).\n",
    "  * Constract a shape (100,) boolean array, the mask\n",
    "  * Identify the multiples of each number starting from 2 and set accordingly the corresponding mask element\n",
    "  * Apply the mask to obtain an array of ordered prime numbers\n",
    "  * Check the performances (timeit); how does it scale with N?\n",
    "  * Implement the optimization suggested in the [sieve of Eratosthenes](https://en.wikipedia.org/wiki/Sieve_of_Eratosthenes)"
   ]
  },
  {
   "cell_type": "code",
   "execution_count": 9,
   "metadata": {
    "ExecuteTime": {
     "end_time": "2020-12-03T10:03:22.705911Z",
     "start_time": "2020-12-03T10:03:22.696227Z"
    }
   },
   "outputs": [],
   "source": [
    "from time import time\n",
    "\n",
    "def primes(n):\n",
    "    import numpy as np\n",
    "    mask = np.ones(n,dtype=bool)\n",
    "    for i in range(2,n-1):\n",
    "        for j in range(i+1,n):\n",
    "            if mask[i]== False:\n",
    "                break\n",
    "            else:\n",
    "                if j%i==0:\n",
    "                    mask[j]=False\n",
    "    mask[0] = False\n",
    "    mask[1] = False\n",
    "    primes  = np.where(mask == True)\n",
    "\n",
    "    return list(primes[0])\n",
    "    \n",
    "def SieveOfEratosthenes(n): \n",
    "  \n",
    "    prime = [True for i in range(n + 1)] \n",
    "    \n",
    "    p = 2\n",
    "    while (p * p <= n): \n",
    "        if (prime[p] == True):            \n",
    "            for i in range(p * 2, n + 1, p): \n",
    "                prime[i] = False\n",
    "        p += 1\n",
    "    \n",
    "    prime[0]= False\n",
    "    prime[1]= False\n",
    "    \n",
    "    d = []\n",
    "    for p in range(n + 1): \n",
    "        if prime[p]: \n",
    "             d.append(p)\n",
    "    return d\n",
    "# This part of the cell stands for the time analisys is commented because the run took a 'bit' of time\n",
    "#primetimes = np.zeros(990)\n",
    "#sievetimes = np.zeros(990)\n",
    "#k = 0\n",
    "#for i in range(99,9999,10):\n",
    "#    t1 = time()\n",
    "#    primes(i)\n",
    "#    t2 = time()\n",
    "#    primetimes[k] = t2-t1\n",
    "#    t1 = time()\n",
    "#    SieveOfEratosthenes(i)\n",
    "#    t2 = time()\n",
    " #   sievetimes[k] = t2-t1\n",
    " #   k += 1\n",
    " #   if k%100 == 0:\n",
    " #       print(k)\n",
    "#plt.plot(range(0,990),sievetimes,label=\"Sieves of Eratosthenes time (s)\")\n",
    "#plt.plot(range(0,990),primetimes,label=\"Prime algorithm time (s)\")"
   ]
  },
  {
   "cell_type": "markdown",
   "metadata": {},
   "source": [
    "The first algorithm seems $\\propto t^2$, the sieve of Eratosthenes seems $\\propto \\sqrt{t}$"
   ]
  },
  {
   "cell_type": "markdown",
   "metadata": {},
   "source": [
    "8\\. Diffusion using random walk\n",
    "\n",
    "Consider a simple random walk process: at each step in time, a walker jumps right or left (+1 or -1) with equal probability. The goal is to find the typical distance from the origin of a random walker after a given amount of time. \n",
    "To do that, let's simulate many walkers and create a 2D array with each walker as a raw and the actual time evolution as columns\n",
    "\n",
    "  * Take 1000 walkers and let them walk for 200 steps\n",
    "  * Use randint to create a 2D array of size walkers x steps with values -1 or 1\n",
    "  * Build the actual walking distances for each walker (i.e. another 2D array \"summing on each raw\")\n",
    "  * Take the square of that 2D array (elementwise)\n",
    "  * Compute the mean of the squared distances at each step (i.e. the mean along the columns)\n",
    "  * Plot the average distances (sqrt(distance\\*\\*2)) as a function of time (step)\n",
    "  \n",
    "Did you get what you expected?\n",
    "Yes, the mean of the random walk go like the $\\sqrt{t}$ and the plot seems to confirm the theory. "
   ]
  },
  {
   "cell_type": "code",
   "execution_count": 16,
   "metadata": {
    "ExecuteTime": {
     "end_time": "2020-12-03T10:04:09.415624Z",
     "start_time": "2020-12-03T10:04:08.826418Z"
    }
   },
   "outputs": [
    {
     "data": {
      "image/png": "[encoded data removed]",
      "text/plain": [
       "<Figure size 432x288 with 1 Axes>"
      ]
     },
     "metadata": {
      "needs_background": "light"
     },
     "output_type": "display_data"
    }
   ],
   "source": [
    "randomwalk          = np.zeros((1000,200))\n",
    "randomwalk_distance = np.zeros((1000,200))\n",
    "for i in range(1000):\n",
    "    for j in range(200):\n",
    "        if npr.randint(0,2) == 1:\n",
    "            randomwalk[i,j]          = 1\n",
    "            randomwalk_distance[i,j] = randomwalk_distance[i,j-1] + 1\n",
    "        else:\n",
    "            randomwalk[i,j]          = -1\n",
    "            randomwalk_distance[i,j] = randomwalk_distance[i,j-1] - 1  \n",
    "randomwalk_distance=randomwalk_distance**2\n",
    "meanwalk = np.zeros(200)\n",
    "for i in range(200):\n",
    "    meanwalk[i] = np.mean(randomwalk_distance[:,i])\n",
    "plt.plot(range(200),meanwalk**.5)\n",
    "plt.show()"
   ]
  },
  {
   "cell_type": "markdown",
   "metadata": {},
   "source": [
    "9\\. Analyze a data file \n",
    "  * Download the population of hares, lynxes and carrots at the beginning of the last century.\n",
    "    ```python\n",
    "    ! wget https://www.dropbox.com/s/3vigxoqayo389uc/populations.txt\n",
    "    ```\n",
    "\n",
    "  * Check the content by looking within the file\n",
    "  * Load the data (use an appropriate numpy method) into a 2D array\n",
    "  * Create arrays out of the columns, the arrays being (in order): *year*, *hares*, *lynxes*, *carrots* \n",
    "  * Plot the 3 populations over the years\n",
    "  * Compute the main statistical properties of the dataset (mean, std, correlations, etc.)\n",
    "  * Which species has the highest population each year?\n",
    "\n",
    "Do you feel there is some evident correlation here? [Studies](https://www.enr.gov.nt.ca/en/services/lynx/lynx-snowshoe-hare-cycle) tend to believe so.\n",
    "\n",
    "It seems to be a shift in the max of lynxes and hares, because lynxes eat hares. If the first population drops ( there are less predators) the second increases, if the second increase the first increases the next years, because they have something to eat, the hares eaten are more, so the hares population drop."
   ]
  },
  {
   "cell_type": "code",
   "execution_count": 47,
   "metadata": {},
   "outputs": [
    {
     "name": "stdout",
     "output_type": "stream",
     "text": [
      "--2020-10-31 12:15:10--  https://www.dropbox.com/s/3vigxoqayo389uc/populations.txt\n",
      "Risoluzione di www.dropbox.com (www.dropbox.com)... 162.125.69.1, 2620:100:6025:1::a27d:4501\n",
      "Connessione a www.dropbox.com (www.dropbox.com)|162.125.69.1|:443... connesso.\n",
      "Richiesta HTTP inviata, in attesa di risposta... 301 Moved Permanently\n",
      "Posizione: /s/raw/3vigxoqayo389uc/populations.txt [segue]\n",
      "--2020-10-31 12:15:11--  https://www.dropbox.com/s/raw/3vigxoqayo389uc/populations.txt\n",
      "Riutilizzo della connessione esistente a www.dropbox.com:443.\n",
      "Richiesta HTTP inviata, in attesa di risposta... 302 Found\n",
      "Posizione: https://ucd6e40ce580be87dcd52754f35c.dl.dropboxusercontent.com/cd/0/inline/BCQWiAYPWK5Ig6Jj-4FxDKmV20z98gtDJFnXv_3e3AFwg3erSyWSe9yeHfaKKl8_lXEDEd9RhuRo0ZTLQOpnZ_6kQckDZjr-zHB7vzmDzzEAUw/file# [segue]\n",
      "--2020-10-31 12:15:11--  https://ucd6e40ce580be87dcd52754f35c.dl.dropboxusercontent.com/cd/0/inline/BCQWiAYPWK5Ig6Jj-4FxDKmV20z98gtDJFnXv_3e3AFwg3erSyWSe9yeHfaKKl8_lXEDEd9RhuRo0ZTLQOpnZ_6kQckDZjr-zHB7vzmDzzEAUw/file\n",
      "Risoluzione di ucd6e40ce580be87dcd52754f35c.dl.dropboxusercontent.com (ucd6e40ce580be87dcd52754f35c.dl.dropboxusercontent.com)... 162.125.69.15, 2620:100:6025:15::a27d:450f\n",
      "Connessione a ucd6e40ce580be87dcd52754f35c.dl.dropboxusercontent.com (ucd6e40ce580be87dcd52754f35c.dl.dropboxusercontent.com)|162.125.69.15|:443... connesso.\n",
      "Richiesta HTTP inviata, in attesa di risposta... 200 OK\n",
      "Lunghezza: 525 [text/plain]\n",
      "Salvataggio in: \"populations.txt.1\"\n",
      "\n",
      "populations.txt.1   100%[===================>]     525  --.-KB/s    in 0s      \n",
      "\n",
      "2020-10-31 12:15:12 (54,5 MB/s) - \"populations.txt.1\" salvato [525/525]\n",
      "\n"
     ]
    }
   ],
   "source": [
    "! wget https://www.dropbox.com/s/3vigxoqayo389uc/populations.txt"
   ]
  },
  {
   "cell_type": "code",
   "execution_count": 17,
   "metadata": {
    "ExecuteTime": {
     "end_time": "2020-12-03T10:04:12.325404Z",
     "start_time": "2020-12-03T10:04:12.313008Z"
    }
   },
   "outputs": [],
   "source": [
    "population = np.loadtxt('populations.txt',comments='#', skiprows=1) \n",
    "years   = np.zeros(20)\n",
    "hares   = np.zeros(20)\n",
    "lynxes  = np.zeros(20)\n",
    "carrots = np.zeros(20)\n",
    "years   = population[:,0]\n",
    "hares   = population[:,1]\n",
    "lynxes  = population[:,2]\n",
    "carrots = population[:,3]"
   ]
  },
  {
   "cell_type": "markdown",
   "metadata": {},
   "source": [
    "# Plots\n"
   ]
  },
  {
   "cell_type": "code",
   "execution_count": 20,
   "metadata": {
    "ExecuteTime": {
     "end_time": "2020-12-03T10:04:27.247190Z",
     "start_time": "2020-12-03T10:04:27.132586Z"
    }
   },
   "outputs": [
    {
     "data": {
      "image/png": "[encoded data removed]",
      "text/plain": [
       "<Figure size 432x288 with 1 Axes>"
      ]
     },
     "metadata": {
      "needs_background": "light"
     },
     "output_type": "display_data"
    }
   ],
   "source": [
    "plt.plot(years,hares, label='hares')\n",
    "# plt.show()\n",
    "plt.plot(years,lynxes,label='lynxes')\n",
    "# plt.show()\n",
    "plt.plot(years,carrots,label='carrots')\n",
    "plt.legend()\n",
    "plt.show()"
   ]
  },
  {
   "cell_type": "markdown",
   "metadata": {},
   "source": [
    "# Main Statistical propreties"
   ]
  },
  {
   "cell_type": "code",
   "execution_count": 19,
   "metadata": {
    "ExecuteTime": {
     "end_time": "2020-12-03T10:04:18.264920Z",
     "start_time": "2020-12-03T10:04:17.358151Z"
    }
   },
   "outputs": [
    {
     "name": "stdout",
     "output_type": "stream",
     "text": [
      "The mean of the hares is  34080.95238095238 \n",
      " The standard deviation is  20897.906458089667\n",
      "The mean of the lynxes is  20166.666666666668 \n",
      " The standard deviation is  16254.591536908763\n",
      "The mean of the carrots is  42400.0 \n",
      " The standard deviation is  3322.5062255844787\n"
     ]
    },
    {
     "data": {
      "image/png": "[encoded data removed]",
      "text/plain": [
       "<Figure size 432x288 with 2 Axes>"
      ]
     },
     "metadata": {
      "needs_background": "light"
     },
     "output_type": "display_data"
    },
    {
     "data": {
      "image/png": "[encoded data removed]",
      "text/plain": [
       "<Figure size 432x288 with 2 Axes>"
      ]
     },
     "metadata": {
      "needs_background": "light"
     },
     "output_type": "display_data"
    },
    {
     "data": {
      "image/png": "[encoded data removed]",
      "text/plain": [
       "<Figure size 432x288 with 2 Axes>"
      ]
     },
     "metadata": {
      "needs_background": "light"
     },
     "output_type": "display_data"
    },
    {
     "name": "stdout",
     "output_type": "stream",
     "text": [
      "In  1900.0  the max population are carrots.\n",
      "In  1901.0  the max population are carrots.\n",
      "In  1902.0  the max population are hares.\n",
      "In  1903.0  the max population are hares.\n",
      "In  1904.0  the max population are lynxes.\n",
      "In  1905.0  the max population are lynxes.\n",
      "In  1906.0  the max population are carrots.\n",
      "In  1907.0  the max population are carrots.\n",
      "In  1908.0  the max population are carrots.\n",
      "In  1909.0  the max population are carrots.\n",
      "In  1910.0  the max population are carrots.\n",
      "In  1911.0  the max population are carrots.\n",
      "In  1912.0  the max population are hares.\n",
      "In  1913.0  the max population are hares.\n",
      "In  1914.0  the max population are hares.\n",
      "In  1915.0  the max population are lynxes.\n",
      "In  1916.0  the max population are carrots.\n",
      "In  1917.0  the max population are carrots.\n",
      "In  1918.0  the max population are carrots.\n",
      "In  1919.0  the max population are carrots.\n"
     ]
    }
   ],
   "source": [
    "print(\"The mean of the hares is \",np.mean(hares),\"\\n\", \"The standard deviation is \",np.std(hares))\n",
    "print(\"The mean of the lynxes is \",np.mean(lynxes),\"\\n\", \"The standard deviation is \",np.std(lynxes))\n",
    "print(\"The mean of the carrots is \",np.mean(carrots),\"\\n\", \"The standard deviation is \",np.std(carrots))\n",
    "\n",
    "C = np.corrcoef(lynxes,carrots)\n",
    "import seaborn as sns\n",
    "\n",
    "import matplotlib.pyplot as plt\n",
    "\n",
    "\n",
    "sns.heatmap(C, annot = True)\n",
    "plt.show()\n",
    "C = np.corrcoef(lynxes,hares)\n",
    "sns.heatmap(C, annot = True)\n",
    "plt.show()\n",
    "C = np.corrcoef(hares,carrots)\n",
    "sns.heatmap(C, annot = True)\n",
    "\n",
    "plt.show()\n",
    "c = 0\n",
    "for i in range(20):\n",
    "    if max(hares[i],carrots[i],lynxes[i])== hares[i]:\n",
    "        print(\"In \", years[i] , \" the max population are hares.\")\n",
    "    elif max(hares[i],carrots[i],lynxes[i])== lynxes[i]:\n",
    "        print(\"In \", years[i] , \" the max population are lynxes.\")\n",
    "    else :\n",
    "        print(\"In \", years[i] , \" the max population are carrots.\")\n",
    "    "
   ]
  },
  {
   "cell_type": "code",
   "execution_count": null,
   "metadata": {},
   "outputs": [],
   "source": []
  }
 ],
 "metadata": {
  "kernelspec": {
   "display_name": "Python 3",
   "language": "python",
   "name": "python3"
  },
  "language_info": {
   "codemirror_mode": {
    "name": "ipython",
    "version": 3
   },
   "file_extension": ".py",
   "mimetype": "text/x-python",
   "name": "python",
   "nbconvert_exporter": "python",
   "pygments_lexer": "ipython3",
   "version": "3.8.5"
  },
  "toc": {
   "base_numbering": 1,
   "nav_menu": {},
   "number_sections": true,
   "sideBar": true,
   "skip_h1_title": false,
   "title_cell": "Table of Contents",
   "title_sidebar": "Contents",
   "toc_cell": false,
   "toc_position": {},
   "toc_section_display": true,
   "toc_window_display": false
  },
  "varInspector": {
   "cols": {
    "lenName": 16,
    "lenType": 16,
    "lenVar": 40
   },
   "kernels_config": {
    "python": {
     "delete_cmd_postfix": "",
     "delete_cmd_prefix": "del ",
     "library": "var_list.py",
     "varRefreshCmd": "print(var_dic_list())"
    },
    "r": {
     "delete_cmd_postfix": ") ",
     "delete_cmd_prefix": "rm(",
     "library": "var_list.r",
     "varRefreshCmd": "cat(var_dic_list()) "
    }
   },
   "types_to_exclude": [
    "module",
    "function",
    "builtin_function_or_method",
    "instance",
    "_Feature"
   ],
   "window_display": false
  }
 },
 "nbformat": 4,
 "nbformat_minor": 2
}
