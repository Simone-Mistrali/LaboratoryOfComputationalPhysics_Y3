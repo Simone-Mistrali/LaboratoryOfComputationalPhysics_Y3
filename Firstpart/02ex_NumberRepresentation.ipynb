{
 "cells": [
  {
   "cell_type": "markdown",
   "metadata": {},
   "source": [
    "1\\. Write a function that converts number representation (bin<->dec<->hex)"
   ]
  },
  {
   "cell_type": "code",
   "execution_count": 1,
   "metadata": {},
   "outputs": [],
   "source": [
    "def fconv(choice,x):\n",
    "    if choice == \"bin\":\n",
    "        return bin(x)\n",
    "    elif choice == \"hex\":\n",
    "        return hex(x)\n",
    "    elif choice == \"dec\":\n",
    "        return int(x)\n",
    "    else:\n",
    "        print(\"Wrong choice!\")"
   ]
  },
  {
   "cell_type": "markdown",
   "metadata": {},
   "source": [
    "2\\. Write a function that converts a 32 bit word into a single precision floating point (i.e. interprets the various bits as sign, mantissa and exponent)"
   ]
  },
  {
   "cell_type": "code",
   "execution_count": 22,
   "metadata": {},
   "outputs": [],
   "source": [
    "def fsinglepres(x):\n",
    "    \n",
    "    mant = 1\n",
    "    for i in range(1,23):    \n",
    "        mant += int(x[8+i])*2**(-i)\n",
    "       \n",
    "    return (-1)**int(x[0])*mant*2**(int(x[1:9],2)-127)"
   ]
  },
  {
   "cell_type": "markdown",
   "metadata": {},
   "source": [
    "3\\. Write a program to determine the underflow and overflow limits (within a factor of 2) for python on your computer. \n",
    "\n",
    "**Tips**: define two variables inizialized to 1 and halve/double them enough time to exceed the under/over-flow limits  "
   ]
  },
  {
   "cell_type": "code",
   "execution_count": 7,
   "metadata": {},
   "outputs": [
    {
     "name": "stdout",
     "output_type": "stream",
     "text": [
      "8.98846567431158e+307\n",
      "5e-324\n"
     ]
    }
   ],
   "source": [
    "def fover():\n",
    "    r   = 1.\n",
    "    rem = 1.\n",
    "    while r != float(\"inf\"):\n",
    "        rem = r\n",
    "        r  *= 2.\n",
    "    return rem\n",
    "print(fover())\n",
    "def funder():\n",
    "    r   = 1.\n",
    "    rem = 1.\n",
    "    while r != 0:\n",
    "        rem = r\n",
    "        r  /= 2.\n",
    "    return rem\n",
    "print(funder())"
   ]
  },
  {
   "cell_type": "markdown",
   "metadata": {},
   "source": [
    "4\\. Write a program to determine the machine precision\n",
    "\n",
    "**Tips**: define a new variable by adding a smaller and smaller value (proceeding similarly to prob. 2) to an original variable and check the point where the two are the same "
   ]
  },
  {
   "cell_type": "code",
   "execution_count": 28,
   "metadata": {},
   "outputs": [
    {
     "data": {
      "text/plain": [
       "1.1102230246251565e-16"
      ]
     },
     "execution_count": 28,
     "metadata": {},
     "output_type": "execute_result"
    }
   ],
   "source": [
    "def fepsilon():\n",
    "    r    = 0.5\n",
    "    srem = 0.\n",
    "    while (1-srem) != 0:\n",
    "        a     = srem\n",
    "        srem += r\n",
    "        r    /=2\n",
    "    return 1-a\n",
    "fepsilon()\n"
   ]
  },
  {
   "cell_type": "markdown",
   "metadata": {},
   "source": [
    "5\\. Write a function that takes in input three parameters $a$, $b$ and $c$ and prints out the two solutions to the quadratic equation $ax^2+bx+c=0$ using the standard formula:\n",
    "$$\n",
    "x=\\frac{-b\\pm\\sqrt{b^2-4ac}}{2a}\n",
    "$$\n",
    "\n",
    "(a) use the program to compute the solution for $a=0.001$, $b=1000$ and $c=0.001$\n",
    "\n",
    "(b) re-express the standard solution formula by multiplying top and bottom by $-b\\mp\\sqrt{b^2-4ac}$ and again find the solution for $a=0.001$, $b=1000$ and $c=0.001$. How does it compare with what previously obtained? Why?\n",
    "\n",
    "(c) write a function that compute the roots of a quadratic equation accurately in all cases"
   ]
  },
  {
   "cell_type": "markdown",
   "metadata": {},
   "source": [
    "# a)"
   ]
  },
  {
   "cell_type": "code",
   "execution_count": 1,
   "metadata": {},
   "outputs": [
    {
     "name": "stdout",
     "output_type": "stream",
     "text": [
      "(-9.999894245993346e-07, -999999.999999)\n"
     ]
    }
   ],
   "source": [
    "def fquadratic1(a,b,c):\n",
    "    den   = 2*a\n",
    "    den   = 1/den\n",
    "    delta = (b**2 -4*a*c)**0.5\n",
    "    return ((-b+delta)*den ,(-b-delta)*den)\n",
    "a = 0.001\n",
    "b = 1000\n",
    "c = 0.001\n",
    "print(fquadratic(a,b,c))"
   ]
  },
  {
   "cell_type": "markdown",
   "metadata": {},
   "source": [
    "# b)"
   ]
  },
  {
   "cell_type": "code",
   "execution_count": 26,
   "metadata": {},
   "outputs": [
    {
     "name": "stdout",
     "output_type": "stream",
     "text": [
      "(-1.000000000001e-06, -1000010.5755125057)\n"
     ]
    }
   ],
   "source": [
    "def fquadratic2(a,b,c):\n",
    "    x1 = -(2*c)/(b+(b**2-4*a*c)**0.5)\n",
    "    x2 = (2*c)/(-b+(b**2-4*a*c)**0.5)\n",
    "    return (x1,x2)\n",
    "\n",
    "a = 0.001\n",
    "b = 1000\n",
    "c = 0.001\n",
    "print(fquadratic(a,b,c))"
   ]
  },
  {
   "cell_type": "markdown",
   "metadata": {},
   "source": [
    "# c)"
   ]
  },
  {
   "cell_type": "code",
   "execution_count": null,
   "metadata": {},
   "outputs": [],
   "source": [
    "def fquadratic3(a,b,c):\n",
    "    if b/a > 1000:\n",
    "        x1 = -(2*c)/(b+(b**2-4*a*c)**0.5)\n",
    "        x2 = (2*c)/(-b+(b**2-4*a*c)**0.5)\n",
    "        return (x1,x2)\n",
    "    else:\n",
    "        den   = 2*a\n",
    "        den   = 1/den\n",
    "        delta = (b**2 -4*a*c)**0.5\n",
    "        return ((-b+delta)*den ,(-b-delta)*den)"
   ]
  },
  {
   "cell_type": "markdown",
   "metadata": {},
   "source": [
    "6\\. Write a program that implements the function $f(x)=x(x−1)$\n",
    "\n",
    "(a) Calculate the derivative of the function at the point $x = 1$ using the derivative definition:\n",
    "\n",
    "$$\n",
    "\\frac{{\\rm d}f}{{\\rm d}x} = \\lim_{\\delta\\to0} \\frac{f(x+\\delta)-f(x)}{\\delta}\n",
    "$$\n",
    "\n",
    "with $\\delta = 10^{−2}$. Calculate the true value of the same derivative analytically and compare with the answer your program gives. The two will not agree perfectly. Why not?\n",
    "\n",
    "(b) Repeat the calculation for $\\delta = 10^{−4}, 10^{−6}, 10^{−8}, 10^{−10}, 10^{−12}$ and $10^{−14}$. How does the accuracy scales with $\\delta$?\n",
    "\n",
    "The accuracy increase a little in range [3,5], after $5$ it decreases.\n"
   ]
  },
  {
   "cell_type": "markdown",
   "metadata": {},
   "source": [
    "# Function $f(x)$"
   ]
  },
  {
   "cell_type": "code",
   "execution_count": 2,
   "metadata": {},
   "outputs": [],
   "source": [
    "def f(x):\n",
    "    return x*(x-1)"
   ]
  },
  {
   "cell_type": "markdown",
   "metadata": {},
   "source": [
    "# Derivative function"
   ]
  },
  {
   "cell_type": "code",
   "execution_count": 3,
   "metadata": {},
   "outputs": [],
   "source": [
    "def fderivative(f,x,delta):\n",
    "    return (f(x+delta)-f(x))/delta"
   ]
  },
  {
   "cell_type": "markdown",
   "metadata": {},
   "source": [
    "# True derivative"
   ]
  },
  {
   "cell_type": "code",
   "execution_count": 4,
   "metadata": {},
   "outputs": [],
   "source": [
    "def fdertrue(x):\n",
    "    return 2*x-1"
   ]
  },
  {
   "cell_type": "markdown",
   "metadata": {},
   "source": [
    "# a)"
   ]
  },
  {
   "cell_type": "code",
   "execution_count": 5,
   "metadata": {},
   "outputs": [
    {
     "name": "stdout",
     "output_type": "stream",
     "text": [
      "0.010000000000000897\n"
     ]
    }
   ],
   "source": [
    "print(abs(fderivative(f,1,10**(-2))-fdertrue(1)))"
   ]
  },
  {
   "cell_type": "markdown",
   "metadata": {},
   "source": [
    "# b)"
   ]
  },
  {
   "cell_type": "code",
   "execution_count": 7,
   "metadata": {},
   "outputs": [
    {
     "name": "stdout",
     "output_type": "stream",
     "text": [
      "[9.999999988985486e-05, 9.99917733279787e-07, 3.922528746258536e-09, 8.284037100736441e-08, 8.890058334132256e-05, 0.0007992778373491216]\n"
     ]
    },
    {
     "data": {
      "text/plain": [
       "[<matplotlib.lines.Line2D at 0x7f827d2656d0>]"
      ]
     },
     "execution_count": 7,
     "metadata": {},
     "output_type": "execute_result"
    },
    {
     "data": {
      "image/png": "[encoded data removed]",
      "text/plain": [
       "<Figure size 432x288 with 1 Axes>"
      ]
     },
     "metadata": {
      "needs_background": "light"
     },
     "output_type": "display_data"
    }
   ],
   "source": [
    "import matplotlib.pyplot as plt\n",
    "out= [abs(fderivative(f,1,10**(-2*x))-fdertrue(1)) for x in range (2,8) ]\n",
    "print(out)\n",
    "plt.plot(range(2,8),out)"
   ]
  },
  {
   "cell_type": "markdown",
   "metadata": {},
   "source": [
    "7\\. Consider the integral of the semicircle of radius 1:\n",
    "$$\n",
    "I=\\int_{-1}^{1} \\sqrt(1-x^2) {\\rm d}x\n",
    "$$\n",
    "which it's known to be $I=\\frac{\\pi}{2}=1.57079632679...$.\n",
    "Alternatively we can use the Riemann definition of the integral:\n",
    "$$\n",
    "I=\\lim_{N\\to\\infty} \\sum_{k=1}^{N} h y_k \n",
    "$$\n",
    "\n",
    "with $h=2/N$ the width of each of the $N$ slices the domain is divided into and where\n",
    "$y_k$ is the value of the function at the $k-$th slice.\n",
    "\n",
    "(a) Write a programe to compute the integral with $N=100$. How does the result compares to the true value?\n",
    "\n",
    "(b) How much can $N$ be increased if the computation needs to be run in less than a second? What is the gain in running it for 1 minute?\n",
    "\n",
    "(a) 0.0056\n",
    "\n",
    "(b) (8333333,409000000)\n"
   ]
  },
  {
   "cell_type": "markdown",
   "metadata": {},
   "source": [
    "# Function of semicircle"
   ]
  },
  {
   "cell_type": "code",
   "execution_count": 8,
   "metadata": {},
   "outputs": [],
   "source": [
    "def fsemic(x):\n",
    "    return (1-x*x)**0.5"
   ]
  },
  {
   "cell_type": "markdown",
   "metadata": {},
   "source": [
    "# Riemann Integral function"
   ]
  },
  {
   "cell_type": "code",
   "execution_count": 12,
   "metadata": {},
   "outputs": [
    {
     "name": "stdout",
     "output_type": "stream",
     "text": [
      "0.0056420209940735155\n"
     ]
    }
   ],
   "source": [
    "def fintegr(f,a,b,N):\n",
    "    h = (b-a)/N\n",
    "    s = 0\n",
    "    x = a \n",
    "    for i in range(1,N):\n",
    "        s += h*f(x)\n",
    "        x += h\n",
    "    return s\n",
    "print(abs(fintegr(fsemic,-1,1,100)- pi/2))"
   ]
  },
  {
   "cell_type": "code",
   "execution_count": 11,
   "metadata": {},
   "outputs": [
    {
     "name": "stdout",
     "output_type": "stream",
     "text": [
      "60.807653188705444\n"
     ]
    }
   ],
   "source": [
    "from time import time\n",
    "from math import pi\n",
    "\n",
    "t1 = time()\n",
    "x  = abs(fintegr(fsemic,-1,1,409000000)- pi/2)\n",
    "t2 = time()\n",
    "print(t2-t1)"
   ]
  },
  {
   "cell_type": "code",
   "execution_count": 29,
   "metadata": {},
   "outputs": [
    {
     "name": "stdout",
     "output_type": "stream",
     "text": [
      "1.1484034061431885\n"
     ]
    }
   ],
   "source": [
    "t1 = time()\n",
    "x  = abs(fintegr(fsemic,-1,1,8333333)- pi/2)\n",
    "t2 = time()\n",
    "print(t2-t1)"
   ]
  }
 ],
 "metadata": {
  "kernelspec": {
   "display_name": "Python 3",
   "language": "python",
   "name": "python3"
  },
  "language_info": {
   "codemirror_mode": {
    "name": "ipython",
    "version": 3
   },
   "file_extension": ".py",
   "mimetype": "text/x-python",
   "name": "python",
   "nbconvert_exporter": "python",
   "pygments_lexer": "ipython3",
   "version": "3.8.3"
  }
 },
 "nbformat": 4,
 "nbformat_minor": 2
}
