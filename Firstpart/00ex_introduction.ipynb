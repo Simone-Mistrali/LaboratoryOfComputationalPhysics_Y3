{
 "cells": [
  {
   "cell_type": "markdown",
   "metadata": {},
   "source": [
    "1. The MickeyMouse problem\n",
    "\n",
    "a) Write a program that prints the numbers from 1 to 100. But for multiples of three print Mickey instead of the number and for the multiples of five print Mouse. For numbers which are multiples of both three and five print MickeyMouse\n",
    "\n",
    "b) Put the result in a tuple and substitute Mickey with Donald and Mouse with Duck"
   ]
  },
  {
   "cell_type": "code",
   "execution_count": 15,
   "metadata": {},
   "outputs": [],
   "source": [
    "def fa():\n",
    "    for i in range(1,100):\n",
    "        if i%3==0 and i%5 == 0:\n",
    "            print(\"MickeyMouse\")\n",
    "        elif i%3 == 0:\n",
    "            print(\"Mickey\")\n",
    "        elif i%5==0:\n",
    "            print(\"Mouse\")\n",
    "        else:\n",
    "            print(i)\n",
    "def fanew():\n",
    "    l1=[]\n",
    "    for i in range(1,100):\n",
    "        if i%3==0 and i%5 == 0:\n",
    "            l1.append(\"MickeyMouse\")\n",
    "        elif i%3 == 0:\n",
    "            l1.append(\"Mickey\")\n",
    "        elif i%5==0:\n",
    "            l1.append(\"Mouse\")\n",
    "        else:\n",
    "            l1.append(i)\n",
    "    return tuple(l1)\n",
    "def fb(l1):\n",
    "    l1 = list(l1)\n",
    "    for i in range(0,99):\n",
    "        if l1[i]==\"Mickey\":\n",
    "            l1[i] = \"Donald\"\n",
    "        elif l1[i]==\"Mouse\":\n",
    "            l1[i] = \"Duck\"\n",
    "    return tuple(l1)"
   ]
  },
  {
   "cell_type": "markdown",
   "metadata": {},
   "source": [
    "2\\. The swap function\n",
    "\n",
    "Write a function that swap the values of two input variables x and y (whatever the type). Try to do that also without a temporary variable"
   ]
  },
  {
   "cell_type": "code",
   "execution_count": 16,
   "metadata": {},
   "outputs": [],
   "source": [
    "def swap(a,b):\n",
    "    return b,a"
   ]
  },
  {
   "cell_type": "markdown",
   "metadata": {},
   "source": [
    "3\\. Computing the distance\n",
    "\n",
    "Write a function that calculates and returns the euclidean distance between two points *u* and *v*, where *u* and *v* are both 2-tuples *(x,y)*. For example, if *u=(3,0)* and *v=(0,4)*, the function should return 5"
   ]
  },
  {
   "cell_type": "code",
   "execution_count": 19,
   "metadata": {},
   "outputs": [],
   "source": [
    "def fdistance(a,b):\n",
    "    x1 = list(a)\n",
    "    x2 = list(b)\n",
    "    return ((x1[0]-x2[0])**2 +(x1[1]-x2[1])**2)**0.5"
   ]
  },
  {
   "cell_type": "markdown",
   "metadata": {},
   "source": [
    "4\\. Counting letters\n",
    "\n",
    "Write a program to calculate the number of times each character occurs in a given string *s*. Ignore differneces in capitalization"
   ]
  },
  {
   "cell_type": "code",
   "execution_count": 23,
   "metadata": {},
   "outputs": [
    {
     "name": "stdout",
     "output_type": "stream",
     "text": [
      "w  occures  2  times.\n",
      "i  occures  14  times.\n",
      "e  occures  22  times.\n",
      "a  occures  7  times.\n",
      "p  occures  8  times.\n",
      "o  occures  13  times.\n",
      "r  occures  17  times.\n",
      "h  occures  9  times.\n",
      "   occures  41  times.\n",
      "n  occures  10  times.\n",
      "b  occures  5  times.\n",
      "f  occures  10  times.\n",
      "1  occures  2  times.\n",
      "0  occures  2  times.\n",
      "u  occures  9  times.\n",
      "l  occures  6  times.\n",
      "s  occures  9  times.\n",
      "c  occures  3  times.\n",
      "y  occures  2  times.\n",
      "d  occures  3  times.\n",
      "m  occures  12  times.\n",
      "t  occures  19  times.\n"
     ]
    }
   ],
   "source": [
    "s=\"Write a program that prints the numbers from 1 to 100. \\\n",
    "But for multiples of three print Mickey instead of the number and for the multiples of five print Mouse. \\\n",
    "For numbers which are multiples of both three and five print MickeyMouse\"\n",
    "def fcount(s):\n",
    "    s=s.lower()\n",
    "    i = 0\n",
    "    while i <= len(s):\n",
    "        c = 0\n",
    "        d = s[i]\n",
    "        for j in range(len(s)):\n",
    "            if s[j] == s[i]:\n",
    "                c += 1\n",
    "        print(s[i],\" occures \",c,\" times.\")\n",
    "        s = s.replace(s[i],'')\n",
    "        i+=1\n",
    "fcount(s)      "
   ]
  },
  {
   "cell_type": "markdown",
   "metadata": {},
   "source": [
    "5\\. Isolating the unique\n",
    "\n",
    "Write a function that determines and count the unique numbers in the list *l*"
   ]
  },
  {
   "cell_type": "code",
   "execution_count": 28,
   "metadata": {},
   "outputs": [
    {
     "name": "stdout",
     "output_type": "stream",
     "text": [
      "58 is unique!\n",
      "74 is unique!\n",
      "96 is unique!\n",
      "64 is unique!\n",
      "10 is unique!\n",
      "24 is unique!\n",
      "19 is unique!\n",
      "33 is unique!\n",
      "86 is unique!\n",
      "99 is unique!\n",
      "18 is unique!\n",
      "47 is unique!\n",
      "88 is unique!\n",
      "55 is unique!\n",
      "54 is unique!\n",
      "8 is unique!\n",
      "79 is unique!\n",
      "81 is unique!\n",
      "57 is unique!\n",
      "37 is unique!\n",
      "1 is unique!\n",
      "9 is unique!\n",
      "95 is unique!\n",
      "90 is unique!\n",
      "98 is unique!\n",
      "39 is unique!\n",
      "16 is unique!\n",
      "82 is unique!\n",
      "92 is unique!\n",
      "41 is unique!\n",
      "30 is unique!\n",
      "94 is unique!\n",
      "5 is unique!\n",
      "72 is unique!\n",
      "87 is unique!\n",
      "75 is unique!\n",
      "53 is unique!\n",
      "There are  37  unique number.\n"
     ]
    }
   ],
   "source": [
    "l = [36, 45, 58, 3, 74, 96, 64, 45, 31, 10, 24, 19, 33, 86, 99, 18, 63, 70, 85,\n",
    " 85, 63, 47, 56, 42, 70, 84, 88, 55, 20, 54, 8, 56, 51, 79, 81, 57, 37, 91,\n",
    " 1, 84, 84, 36, 66, 9, 89, 50, 42, 91, 50, 95, 90, 98, 39, 16, 82, 31, 92, 41,\n",
    " 45, 30, 66, 70, 34, 85, 94, 5, 3, 36, 72, 91, 84, 34, 87, 75, 53, 51, 20, 89, 51, 20]\n",
    "def funique(x):\n",
    "    k = 0\n",
    "    for i in range(len(x)):\n",
    "        d = x[i]\n",
    "        c = 0\n",
    "        for j in range(len(l)):\n",
    "            if x[i] == x[j]:\n",
    "                c += 1\n",
    "        if c == 1:\n",
    "            print(x[i],\"is unique!\")\n",
    "            k += 1\n",
    "    print(\"There are \", k ,\" unique number.\")"
   ]
  },
  {
   "cell_type": "markdown",
   "metadata": {},
   "source": [
    "6\\. Combination of functions\n",
    "\n",
    "Write two functions - one that returns the square of a number, and one that returns the cube. Now write a third function that returns the number raised to the 6th power using the two previous functions."
   ]
  },
  {
   "cell_type": "code",
   "execution_count": 31,
   "metadata": {},
   "outputs": [
    {
     "data": {
      "text/plain": [
       "64"
      ]
     },
     "execution_count": 31,
     "metadata": {},
     "output_type": "execute_result"
    }
   ],
   "source": [
    "def f2(x):\n",
    "    return x*x\n",
    "def f3(x):\n",
    "    return x*x*x\n",
    "def f6(f1,f2,x):\n",
    "    return f2(f1(x))"
   ]
  },
  {
   "cell_type": "markdown",
   "metadata": {},
   "source": [
    "7\\. Cubes\n",
    "\n",
    "Create a list of the cubes of x for x in *[0, 10]* using:\n",
    "\n",
    "a) a for loop\n",
    "\n",
    "b) a list comprehension"
   ]
  },
  {
   "cell_type": "code",
   "execution_count": 36,
   "metadata": {},
   "outputs": [],
   "source": [
    "x1 = []\n",
    "for i in range(11):\n",
    "    x1.append(i**3)\n",
    "x2 = [i**3 for i in range(11)]"
   ]
  },
  {
   "cell_type": "markdown",
   "metadata": {},
   "source": [
    "8\\. Nested list comprehension\n",
    "\n",
    "A Pythagorean triple is an integer solution to the Pythagorean theorem $a^2+b^2=c^2$. The first Pythagorean triple is (3,4,5). Find and put in a tuple all unique Pythagorean triples for the positive integers a, b and c less than 100."
   ]
  },
  {
   "cell_type": "code",
   "execution_count": 41,
   "metadata": {},
   "outputs": [
    {
     "data": {
      "text/plain": [
       "([3, 4, 5],\n",
       " [8, 6, 10],\n",
       " [12, 5, 13],\n",
       " [12, 9, 15],\n",
       " [15, 8, 17],\n",
       " [16, 12, 20],\n",
       " [20, 15, 25],\n",
       " [21, 20, 29],\n",
       " [24, 7, 25],\n",
       " [24, 10, 26],\n",
       " [24, 18, 30],\n",
       " [28, 21, 35],\n",
       " [30, 16, 34],\n",
       " [32, 24, 40],\n",
       " [35, 12, 37],\n",
       " [36, 15, 39],\n",
       " [36, 27, 45],\n",
       " [40, 9, 41],\n",
       " [40, 30, 50],\n",
       " [42, 40, 58],\n",
       " [44, 33, 55],\n",
       " [45, 24, 51],\n",
       " [45, 28, 53],\n",
       " [48, 14, 50],\n",
       " [48, 20, 52],\n",
       " [48, 36, 60],\n",
       " [52, 39, 65],\n",
       " [55, 48, 73],\n",
       " [56, 33, 65],\n",
       " [56, 42, 70],\n",
       " [60, 11, 61],\n",
       " [60, 25, 65],\n",
       " [60, 32, 68],\n",
       " [60, 45, 75],\n",
       " [63, 16, 65],\n",
       " [63, 60, 87],\n",
       " [64, 48, 80],\n",
       " [68, 51, 85],\n",
       " [70, 24, 74],\n",
       " [72, 21, 75],\n",
       " [72, 30, 78],\n",
       " [72, 54, 90],\n",
       " [72, 65, 97],\n",
       " [75, 40, 85],\n",
       " [76, 57, 95],\n",
       " [77, 36, 85],\n",
       " [80, 18, 82],\n",
       " [80, 39, 89],\n",
       " [84, 13, 85],\n",
       " [84, 35, 91])"
      ]
     },
     "execution_count": 41,
     "metadata": {},
     "output_type": "execute_result"
    }
   ],
   "source": [
    "lp = [[3,4,5]]\n",
    "for i in range(3,100):\n",
    "    for j in range(4,i):\n",
    "        for k in range(100):\n",
    "            if i*i+j*j==k*k:\n",
    "                lp.append([i,j,k])\n",
    "lp=tuple(lp)\n",
    "lp"
   ]
  },
  {
   "cell_type": "markdown",
   "metadata": {},
   "source": [
    "9\\. Normalization\n",
    "\n",
    "Write a function that takes a tuple of numbers and returns it with the entries normalized to one"
   ]
  },
  {
   "cell_type": "code",
   "execution_count": 45,
   "metadata": {},
   "outputs": [
    {
     "name": "stdout",
     "output_type": "stream",
     "text": [
      "[0.3333333333333333, 0.3333333333333333, 0.3333333333333333]\n"
     ]
    }
   ],
   "source": [
    "def fnorm(x):\n",
    "    x = list(x)\n",
    "    s = 0\n",
    "    for i in range(len(x)):\n",
    "        s += x[i]\n",
    "    for i in range(len(x)):\n",
    "        x[i] /= s\n",
    "    return x\n",
    "x=(1,1,1)"
   ]
  }
 ],
 "metadata": {
  "kernelspec": {
   "display_name": "Python 3",
   "language": "python",
   "name": "python3"
  },
  "language_info": {
   "codemirror_mode": {
    "name": "ipython",
    "version": 3
   },
   "file_extension": ".py",
   "mimetype": "text/x-python",
   "name": "python",
   "nbconvert_exporter": "python",
   "pygments_lexer": "ipython3",
   "version": "3.8.3"
  }
 },
 "nbformat": 4,
 "nbformat_minor": 2
}
