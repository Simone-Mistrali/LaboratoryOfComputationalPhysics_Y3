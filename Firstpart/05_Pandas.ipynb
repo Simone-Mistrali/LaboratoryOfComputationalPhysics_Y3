{
 "cells": [
  {
   "cell_type": "markdown",
   "metadata": {},
   "source": [
    "# Pandas\n",
    "\n",
    "The `numpy` module is excellent for numerical computations, but to handle missing data or arrays with mixed types takes more work. The `pandas` module is currently the most widely used tool for data manipulation, providing high-performance, easy-to-use data structures and advanced data analysis tools.\n",
    "\n",
    "In particular `pandas` features:\n",
    "\n",
    "* A fast and efficient \"DataFrame\" object for data manipulation with integrated indexing;\n",
    "* Tools for reading and writing data between in-memory data structures and different formats (CSV, Excel, SQL, HDF5);\n",
    "* Intelligent data alignment and integrated handling of missing data;\n",
    "* Intelligent label-based slicing, fancy indexing, and subsetting of large data sets;\n",
    "* Aggregating or transforming data with a powerful \"group-by\" engine; \n",
    "* High performance merging and joining of data sets;\n",
    "* Hierarchical axis indexing provides an intuitive way of working with high-dimensional data in a lower-dimensional data structure;\n",
    "* Time series-functionalities;\n",
    "* Highly optimized for performance, with critical code paths written in Cython or C.\n"
   ]
  },
  {
   "cell_type": "code",
   "execution_count": 1,
   "metadata": {
    "ExecuteTime": {
     "end_time": "2020-11-13T14:31:24.903737Z",
     "start_time": "2020-11-13T14:31:24.686276Z"
    }
   },
   "outputs": [],
   "source": [
    "import pandas as pd\n",
    "import numpy as np"
   ]
  },
  {
   "cell_type": "markdown",
   "metadata": {},
   "source": [
    "## Series\n",
    "\n",
    "Series are completely equivalent to 1D array but with axis labels and the possibility to store heterogeneous elements. Of paramount importance are the time-series, used to define time evolutions of a phenomenon. \n"
   ]
  },
  {
   "cell_type": "code",
   "execution_count": 2,
   "metadata": {
    "ExecuteTime": {
     "end_time": "2020-11-13T14:31:25.802266Z",
     "start_time": "2020-11-13T14:31:25.791288Z"
    }
   },
   "outputs": [
    {
     "name": "stdout",
     "output_type": "stream",
     "text": [
      "xs: a    0.0\n",
      "b    0.5\n",
      "c    1.0\n",
      "d    1.5\n",
      "e    2.0\n",
      "f    2.5\n",
      "g    3.0\n",
      "h    3.5\n",
      "i    4.0\n",
      "j    4.5\n",
      "dtype: float64 \n",
      "\n",
      "xs indexes: Index(['a', 'b', 'c', 'd', 'e', 'f', 'g', 'h', 'i', 'j'], dtype='object') \n",
      "\n",
      "xs values: [0.  0.5 1.  1.5 2.  2.5 3.  3.5 4.  4.5] <class 'numpy.ndarray'> \n",
      "\n",
      "2.5 2.5 3.5 \n",
      "\n",
      "d    1.5\n",
      "f    2.5\n",
      "h    3.5\n",
      "dtype: float64 \n",
      "\n",
      "<class 'pandas.core.series.Series'> \n",
      "\n"
     ]
    }
   ],
   "source": [
    "from string import ascii_lowercase as letters\n",
    "\n",
    "# Creating a series, accessing indexes, values and values by their index \n",
    "xs = pd.Series(np.arange(10)*0.5, index=tuple(letters[:10]))\n",
    "print (\"xs:\", xs,'\\n')\n",
    "print (\"xs indexes:\",xs.index,'\\n')\n",
    "# Values of the Series are actually a numpy array\n",
    "print (\"xs values:\", xs.values, type(xs.values),'\\n')\n",
    "print (xs['f'], xs.f, xs.h, '\\n')\n",
    "print (xs[['d', 'f', 'h']], '\\n')\n",
    "print (type(xs[['d', 'f', 'h']]), '\\n')"
   ]
  },
  {
   "cell_type": "code",
   "execution_count": 3,
   "metadata": {
    "ExecuteTime": {
     "end_time": "2020-11-13T14:31:29.428732Z",
     "start_time": "2020-11-13T14:31:29.418335Z"
    }
   },
   "outputs": [
    {
     "name": "stdout",
     "output_type": "stream",
     "text": [
      "a    0.0\n",
      "b    0.5\n",
      "c    1.0\n",
      "dtype: float64 \n",
      "\n",
      "h    3.5\n",
      "i    4.0\n",
      "j    4.5\n",
      "dtype: float64 \n",
      "\n",
      "a    0.0\n",
      "d    1.5\n",
      "g    3.0\n",
      "j    4.5\n",
      "dtype: float64 \n",
      "\n",
      "h    3.5\n",
      "i    4.0\n",
      "j    4.5\n",
      "dtype: float64 \n",
      "\n",
      "a     1.000000\n",
      "b     1.648721\n",
      "c     2.718282\n",
      "d     4.481689\n",
      "e     7.389056\n",
      "f    12.182494\n",
      "g    20.085537\n",
      "h    33.115452\n",
      "i    54.598150\n",
      "j    90.017131\n",
      "dtype: float64 \n",
      "\n",
      "2.25 1.4361406616345072 \n",
      "\n"
     ]
    }
   ],
   "source": [
    "# Extracting elements and operations: same as numpy array\n",
    "print (xs[:3],'\\n')\n",
    "print (xs[7:], '\\n')\n",
    "print (xs[::3], '\\n')\n",
    "print (xs[xs>3], '\\n')\n",
    "print (np.exp(xs), '\\n')\n",
    "print (np.mean(xs), np.std(xs), '\\n')"
   ]
  },
  {
   "cell_type": "code",
   "execution_count": 4,
   "metadata": {
    "ExecuteTime": {
     "end_time": "2020-11-13T14:31:35.049434Z",
     "start_time": "2020-11-13T14:31:35.038232Z"
    }
   },
   "outputs": [
    {
     "data": {
      "text/plain": [
       "b         1\n",
       "a       cat\n",
       "c    [2, 3]\n",
       "dtype: object"
      ]
     },
     "execution_count": 4,
     "metadata": {},
     "output_type": "execute_result"
    }
   ],
   "source": [
    "# Series can be created from python dictionary too.\n",
    "# Not that the elements can be whatever!\n",
    "d = {'b' : 1, 'a' : 'cat', 'c' : [2,3]}\n",
    "pd.Series(d)\n",
    "\n"
   ]
  },
  {
   "cell_type": "markdown",
   "metadata": {},
   "source": [
    "A key difference between Series and ndarray is that operations between Series automatically align the data based on label. Thus, you can write computations without considering whether the Series involved have the same labels."
   ]
  },
  {
   "cell_type": "code",
   "execution_count": 5,
   "metadata": {
    "ExecuteTime": {
     "end_time": "2020-11-13T14:31:37.776887Z",
     "start_time": "2020-11-13T14:31:37.763721Z"
    }
   },
   "outputs": [
    {
     "name": "stdout",
     "output_type": "stream",
     "text": [
      "a    1.098237\n",
      "b    0.971545\n",
      "c   -0.654950\n",
      "d    1.448936\n",
      "e   -0.411953\n",
      "dtype: float64\n",
      "a         NaN\n",
      "b    1.943089\n",
      "c   -1.309900\n",
      "d    2.897872\n",
      "e         NaN\n",
      "dtype: float64\n"
     ]
    }
   ],
   "source": [
    "s = pd.Series(np.random.randn(5), index=tuple(letters[:5]))\n",
    "print(s)\n",
    "s = s[1:] + s[:-1]\n",
    "print(s)"
   ]
  },
  {
   "cell_type": "markdown",
   "metadata": {},
   "source": [
    "### Time series\n",
    "\n",
    "Time series are very often used to profile the behaviour of a quantity as a function of time. Pandas as a special index for that, `DatetimeIndex`, that can be created e.g. with the function `pd.data_range()`"
   ]
  },
  {
   "cell_type": "code",
   "execution_count": 6,
   "metadata": {
    "ExecuteTime": {
     "end_time": "2020-11-13T14:31:51.578384Z",
     "start_time": "2020-11-13T14:31:51.566594Z"
    }
   },
   "outputs": [
    {
     "name": "stdout",
     "output_type": "stream",
     "text": [
      "2020-11-13\n",
      "2020-11-09 14:45:10.000015\n",
      "9/11/2020 14:45:00\n",
      "DatetimeIndex(['2020-09-11 14:45:00', '2020-09-12 14:45:00',\n",
      "               '2020-09-13 14:45:00', '2020-09-14 14:45:00',\n",
      "               '2020-09-15 14:45:00', '2020-09-16 14:45:00',\n",
      "               '2020-09-17 14:45:00'],\n",
      "              dtype='datetime64[ns]', freq='D')\n",
      "DatetimeIndex(['2020-09-11 14:45:00', '2020-09-11 14:45:01',\n",
      "               '2020-09-11 14:45:02', '2020-09-11 14:45:03',\n",
      "               '2020-09-11 14:45:04', '2020-09-11 14:45:05',\n",
      "               '2020-09-11 14:45:06', '2020-09-11 14:45:07',\n",
      "               '2020-09-11 14:45:08', '2020-09-11 14:45:09',\n",
      "               ...\n",
      "               '2020-09-11 15:44:50', '2020-09-11 15:44:51',\n",
      "               '2020-09-11 15:44:52', '2020-09-11 15:44:53',\n",
      "               '2020-09-11 15:44:54', '2020-09-11 15:44:55',\n",
      "               '2020-09-11 15:44:56', '2020-09-11 15:44:57',\n",
      "               '2020-09-11 15:44:58', '2020-09-11 15:44:59'],\n",
      "              dtype='datetime64[ns]', length=3600, freq='S')\n"
     ]
    }
   ],
   "source": [
    "# to define a date, the datetime module is very useful\n",
    "import datetime as dt\n",
    "date = dt.date.today()\n",
    "print(date)\n",
    "\n",
    "date = dt.datetime(2020,11,9,14,45,10,15)\n",
    "print (date)\n",
    "\n",
    "# otherwise, several notations are interpreted too\n",
    "date = 'Nov 9 2020'\n",
    "# or alternatively\n",
    "date = '9/11/2020 14:45:00'\n",
    "print (date)\n",
    "\n",
    "days = pd.date_range(date, periods=7, freq='D')\n",
    "print (days)\n",
    "\n",
    "seconds = pd.date_range(date, periods=3600, freq='s')\n",
    "print (seconds)\n"
   ]
  },
  {
   "cell_type": "markdown",
   "metadata": {},
   "source": [
    "To learn more about the frequency strings, please see this [link](http://pandas.pydata.org/pandas-docs/stable/timeseries.html#offset-aliases)\n",
    "\n",
    "\n",
    "Timestamped data is the most basic type of time series data that associates values with points in time. For pandas objects it means using the points in time.\n",
    "\n",
    "functions like `pd.to_datetime` can be used, for instance, when reading information as string from a dataset"
   ]
  },
  {
   "cell_type": "code",
   "execution_count": 7,
   "metadata": {
    "ExecuteTime": {
     "end_time": "2020-11-13T14:32:00.515801Z",
     "start_time": "2020-11-13T14:32:00.508615Z"
    }
   },
   "outputs": [
    {
     "name": "stdout",
     "output_type": "stream",
     "text": [
      "1604880000000000000\n",
      "<class 'pandas._libs.tslibs.timestamps.Timestamp'>\n",
      "2010-11-12 00:00:00\n",
      "2010-11-12 00:00:00\n",
      "1289520000000000000\n"
     ]
    }
   ],
   "source": [
    "tstamp = pd.Timestamp(dt.datetime(2020, 11, 9))\n",
    "\n",
    "# internally it counts the nanoseconds from January 1st 19\n",
    "#tstamp = pd.Timestamp(dt.datetime(1970, 1, 1, 0, 0, 0, 1))\n",
    "print(tstamp.value)\n",
    "\n",
    "# when creating a timestamp the format can be explicitly passed\n",
    "ts = pd.to_datetime('2010/11/12', format='%Y/%m/%d')\n",
    "print (type(ts))\n",
    "print (ts)\n",
    "ts = pd.to_datetime('12-11-2010 00:00', format='%d-%m-%Y %H:%M')\n",
    "print (ts)\n",
    "print (ts.value)\n",
    "\n"
   ]
  },
  {
   "cell_type": "markdown",
   "metadata": {},
   "source": [
    "A standard series can be created and (range of) elements can be used as indexes"
   ]
  },
  {
   "cell_type": "code",
   "execution_count": 8,
   "metadata": {
    "ExecuteTime": {
     "end_time": "2020-11-13T14:32:04.668611Z",
     "start_time": "2020-11-13T14:32:04.659586Z"
    },
    "scrolled": true
   },
   "outputs": [
    {
     "name": "stdout",
     "output_type": "stream",
     "text": [
      "2020-09-11 14:45:00    10.244405\n",
      "2020-09-12 14:45:00     9.184321\n",
      "2020-09-13 14:45:00    10.485094\n",
      "2020-09-14 14:45:00     9.105290\n",
      "Freq: D, dtype: float64 \n",
      "\n",
      "Series([], Freq: D, dtype: float64) \n",
      "\n"
     ]
    }
   ],
   "source": [
    "tseries = pd.Series(np.random.normal(10, 1, len(days)), index=days)\n",
    "# Extracting elements\n",
    "print (tseries[0:4], '\\n')\n",
    "print (tseries['2020-11-9':'2020-11-11'], '\\n') # Note - includes end time\n"
   ]
  },
  {
   "cell_type": "markdown",
   "metadata": {},
   "source": [
    "`pd.to_datetime` can also be used to create a `DatetimeIndex`:"
   ]
  },
  {
   "cell_type": "code",
   "execution_count": 9,
   "metadata": {
    "ExecuteTime": {
     "end_time": "2020-11-13T14:32:09.061120Z",
     "start_time": "2020-11-13T14:32:09.053716Z"
    }
   },
   "outputs": [
    {
     "data": {
      "text/plain": [
       "DatetimeIndex(['1980-02-04', '1980-02-05', '1980-02-06', '1980-02-07'], dtype='datetime64[ns]', freq=None)"
      ]
     },
     "execution_count": 9,
     "metadata": {},
     "output_type": "execute_result"
    }
   ],
   "source": [
    "pd.to_datetime([1, 2, 3, 4], unit='D', origin=pd.Timestamp('1980-02-03'))"
   ]
  },
  {
   "cell_type": "markdown",
   "metadata": {},
   "source": [
    "## DataFrame\n",
    "\n",
    "A pandas DataFrame is like a simple tabular spreadsheet. For future reference (or for people already familiar with R), a pandas DataFrame is very similar to the R DataFrame.\n",
    "\n",
    "Each column in a DataFrame is a Series object.\n",
    "\n",
    "The element can be whatever, missing data are dealt with too (as NaN)"
   ]
  },
  {
   "cell_type": "markdown",
   "metadata": {},
   "source": [
    "### DataFrame creation\n",
    "\n",
    "A DataFrame can be created implicitly, with, e.g., a DatatimeIndex object as index:"
   ]
  },
  {
   "cell_type": "code",
   "execution_count": 10,
   "metadata": {
    "ExecuteTime": {
     "end_time": "2020-11-13T14:32:12.765998Z",
     "start_time": "2020-11-13T14:32:12.754871Z"
    }
   },
   "outputs": [
    {
     "data": {
      "text/html": [
       "<div>\n",
       "<style scoped>\n",
       "    .dataframe tbody tr th:only-of-type {\n",
       "        vertical-align: middle;\n",
       "    }\n",
       "\n",
       "    .dataframe tbody tr th {\n",
       "        vertical-align: top;\n",
       "    }\n",
       "\n",
       "    .dataframe thead th {\n",
       "        text-align: right;\n",
       "    }\n",
       "</style>\n",
       "<table border=\"1\" class=\"dataframe\">\n",
       "  <thead>\n",
       "    <tr style=\"text-align: right;\">\n",
       "      <th></th>\n",
       "      <th>A</th>\n",
       "      <th>B</th>\n",
       "      <th>C</th>\n",
       "      <th>D</th>\n",
       "    </tr>\n",
       "  </thead>\n",
       "  <tbody>\n",
       "    <tr>\n",
       "      <th>2020-11-09 14:45:00</th>\n",
       "      <td>0.384097</td>\n",
       "      <td>-0.498070</td>\n",
       "      <td>0.972702</td>\n",
       "      <td>-0.492536</td>\n",
       "    </tr>\n",
       "    <tr>\n",
       "      <th>2020-11-09 15:45:00</th>\n",
       "      <td>0.705516</td>\n",
       "      <td>-0.527079</td>\n",
       "      <td>0.080333</td>\n",
       "      <td>-0.166534</td>\n",
       "    </tr>\n",
       "    <tr>\n",
       "      <th>2020-11-09 16:45:00</th>\n",
       "      <td>-0.930897</td>\n",
       "      <td>-1.420770</td>\n",
       "      <td>1.156429</td>\n",
       "      <td>-1.277383</td>\n",
       "    </tr>\n",
       "    <tr>\n",
       "      <th>2020-11-09 17:45:00</th>\n",
       "      <td>0.059253</td>\n",
       "      <td>1.883709</td>\n",
       "      <td>-1.530392</td>\n",
       "      <td>-0.514613</td>\n",
       "    </tr>\n",
       "    <tr>\n",
       "      <th>2020-11-09 18:45:00</th>\n",
       "      <td>-1.748583</td>\n",
       "      <td>-1.046712</td>\n",
       "      <td>-0.068438</td>\n",
       "      <td>-0.203119</td>\n",
       "    </tr>\n",
       "    <tr>\n",
       "      <th>2020-11-09 19:45:00</th>\n",
       "      <td>-0.697735</td>\n",
       "      <td>-1.157258</td>\n",
       "      <td>0.206006</td>\n",
       "      <td>-0.113113</td>\n",
       "    </tr>\n",
       "    <tr>\n",
       "      <th>2020-11-09 20:45:00</th>\n",
       "      <td>-1.514427</td>\n",
       "      <td>-0.007967</td>\n",
       "      <td>0.074549</td>\n",
       "      <td>-0.102735</td>\n",
       "    </tr>\n",
       "    <tr>\n",
       "      <th>2020-11-09 21:45:00</th>\n",
       "      <td>1.232187</td>\n",
       "      <td>-0.113355</td>\n",
       "      <td>0.215272</td>\n",
       "      <td>-1.435785</td>\n",
       "    </tr>\n",
       "    <tr>\n",
       "      <th>2020-11-09 22:45:00</th>\n",
       "      <td>1.639869</td>\n",
       "      <td>0.360515</td>\n",
       "      <td>0.158677</td>\n",
       "      <td>-0.368480</td>\n",
       "    </tr>\n",
       "    <tr>\n",
       "      <th>2020-11-09 23:45:00</th>\n",
       "      <td>2.873189</td>\n",
       "      <td>0.016152</td>\n",
       "      <td>1.507420</td>\n",
       "      <td>-0.535848</td>\n",
       "    </tr>\n",
       "  </tbody>\n",
       "</table>\n",
       "</div>"
      ],
      "text/plain": [
       "                            A         B         C         D\n",
       "2020-11-09 14:45:00  0.384097 -0.498070  0.972702 -0.492536\n",
       "2020-11-09 15:45:00  0.705516 -0.527079  0.080333 -0.166534\n",
       "2020-11-09 16:45:00 -0.930897 -1.420770  1.156429 -1.277383\n",
       "2020-11-09 17:45:00  0.059253  1.883709 -1.530392 -0.514613\n",
       "2020-11-09 18:45:00 -1.748583 -1.046712 -0.068438 -0.203119\n",
       "2020-11-09 19:45:00 -0.697735 -1.157258  0.206006 -0.113113\n",
       "2020-11-09 20:45:00 -1.514427 -0.007967  0.074549 -0.102735\n",
       "2020-11-09 21:45:00  1.232187 -0.113355  0.215272 -1.435785\n",
       "2020-11-09 22:45:00  1.639869  0.360515  0.158677 -0.368480\n",
       "2020-11-09 23:45:00  2.873189  0.016152  1.507420 -0.535848"
      ]
     },
     "execution_count": 10,
     "metadata": {},
     "output_type": "execute_result"
    }
   ],
   "source": [
    "entries=10\n",
    "dates=pd.date_range('11/9/2020 14:45:00',freq='h', periods=entries)\n",
    "df = pd.DataFrame(np.random.randn(entries,4), index=dates, columns=['A','B','C','D'])\n",
    "df\n"
   ]
  },
  {
   "cell_type": "markdown",
   "metadata": {},
   "source": [
    "or by means of a dictionary:\n"
   ]
  },
  {
   "cell_type": "code",
   "execution_count": 11,
   "metadata": {
    "ExecuteTime": {
     "end_time": "2020-11-13T14:32:15.596013Z",
     "start_time": "2020-11-13T14:32:15.581570Z"
    }
   },
   "outputs": [
    {
     "data": {
      "text/html": [
       "<div>\n",
       "<style scoped>\n",
       "    .dataframe tbody tr th:only-of-type {\n",
       "        vertical-align: middle;\n",
       "    }\n",
       "\n",
       "    .dataframe tbody tr th {\n",
       "        vertical-align: top;\n",
       "    }\n",
       "\n",
       "    .dataframe thead th {\n",
       "        text-align: right;\n",
       "    }\n",
       "</style>\n",
       "<table border=\"1\" class=\"dataframe\">\n",
       "  <thead>\n",
       "    <tr style=\"text-align: right;\">\n",
       "      <th></th>\n",
       "      <th>A</th>\n",
       "      <th>B</th>\n",
       "      <th>C</th>\n",
       "      <th>D</th>\n",
       "      <th>E</th>\n",
       "    </tr>\n",
       "  </thead>\n",
       "  <tbody>\n",
       "    <tr>\n",
       "      <th>0</th>\n",
       "      <td>1.0</td>\n",
       "      <td>2013-01-02</td>\n",
       "      <td>1.0</td>\n",
       "      <td>7</td>\n",
       "      <td>test</td>\n",
       "    </tr>\n",
       "    <tr>\n",
       "      <th>1</th>\n",
       "      <td>1.0</td>\n",
       "      <td>2013-01-02</td>\n",
       "      <td>1.0</td>\n",
       "      <td>8</td>\n",
       "      <td>train</td>\n",
       "    </tr>\n",
       "    <tr>\n",
       "      <th>2</th>\n",
       "      <td>1.0</td>\n",
       "      <td>2013-01-02</td>\n",
       "      <td>1.0</td>\n",
       "      <td>9</td>\n",
       "      <td>test</td>\n",
       "    </tr>\n",
       "    <tr>\n",
       "      <th>3</th>\n",
       "      <td>1.0</td>\n",
       "      <td>2013-01-02</td>\n",
       "      <td>1.0</td>\n",
       "      <td>10</td>\n",
       "      <td>train</td>\n",
       "    </tr>\n",
       "  </tbody>\n",
       "</table>\n",
       "</div>"
      ],
      "text/plain": [
       "     A          B    C   D      E\n",
       "0  1.0 2013-01-02  1.0   7   test\n",
       "1  1.0 2013-01-02  1.0   8  train\n",
       "2  1.0 2013-01-02  1.0   9   test\n",
       "3  1.0 2013-01-02  1.0  10  train"
      ]
     },
     "execution_count": 11,
     "metadata": {},
     "output_type": "execute_result"
    }
   ],
   "source": [
    "df2 = pd.DataFrame(\n",
    "    { 'A' : 1.,\n",
    "      'B' : pd.Timestamp('20130102'),\n",
    "      'C' : pd.Series(1,index=range(4),dtype='float32'),\n",
    "      'D' : np.arange(7,11),\n",
    "      'E' : pd.Categorical([\"test\",\"train\",\"test\",\"train\"]),\n",
    "    }\n",
    "    )\n",
    "df2"
   ]
  },
  {
   "cell_type": "markdown",
   "metadata": {},
   "source": [
    "### Viewing Data"
   ]
  },
  {
   "cell_type": "code",
   "execution_count": 12,
   "metadata": {
    "ExecuteTime": {
     "end_time": "2020-11-13T14:32:19.085296Z",
     "start_time": "2020-11-13T14:32:19.075295Z"
    }
   },
   "outputs": [
    {
     "data": {
      "text/html": [
       "<div>\n",
       "<style scoped>\n",
       "    .dataframe tbody tr th:only-of-type {\n",
       "        vertical-align: middle;\n",
       "    }\n",
       "\n",
       "    .dataframe tbody tr th {\n",
       "        vertical-align: top;\n",
       "    }\n",
       "\n",
       "    .dataframe thead th {\n",
       "        text-align: right;\n",
       "    }\n",
       "</style>\n",
       "<table border=\"1\" class=\"dataframe\">\n",
       "  <thead>\n",
       "    <tr style=\"text-align: right;\">\n",
       "      <th></th>\n",
       "      <th>A</th>\n",
       "      <th>B</th>\n",
       "      <th>C</th>\n",
       "      <th>D</th>\n",
       "    </tr>\n",
       "  </thead>\n",
       "  <tbody>\n",
       "    <tr>\n",
       "      <th>2020-11-09 14:45:00</th>\n",
       "      <td>0.384097</td>\n",
       "      <td>-0.498070</td>\n",
       "      <td>0.972702</td>\n",
       "      <td>-0.492536</td>\n",
       "    </tr>\n",
       "    <tr>\n",
       "      <th>2020-11-09 15:45:00</th>\n",
       "      <td>0.705516</td>\n",
       "      <td>-0.527079</td>\n",
       "      <td>0.080333</td>\n",
       "      <td>-0.166534</td>\n",
       "    </tr>\n",
       "    <tr>\n",
       "      <th>2020-11-09 16:45:00</th>\n",
       "      <td>-0.930897</td>\n",
       "      <td>-1.420770</td>\n",
       "      <td>1.156429</td>\n",
       "      <td>-1.277383</td>\n",
       "    </tr>\n",
       "    <tr>\n",
       "      <th>2020-11-09 17:45:00</th>\n",
       "      <td>0.059253</td>\n",
       "      <td>1.883709</td>\n",
       "      <td>-1.530392</td>\n",
       "      <td>-0.514613</td>\n",
       "    </tr>\n",
       "    <tr>\n",
       "      <th>2020-11-09 18:45:00</th>\n",
       "      <td>-1.748583</td>\n",
       "      <td>-1.046712</td>\n",
       "      <td>-0.068438</td>\n",
       "      <td>-0.203119</td>\n",
       "    </tr>\n",
       "  </tbody>\n",
       "</table>\n",
       "</div>"
      ],
      "text/plain": [
       "                            A         B         C         D\n",
       "2020-11-09 14:45:00  0.384097 -0.498070  0.972702 -0.492536\n",
       "2020-11-09 15:45:00  0.705516 -0.527079  0.080333 -0.166534\n",
       "2020-11-09 16:45:00 -0.930897 -1.420770  1.156429 -1.277383\n",
       "2020-11-09 17:45:00  0.059253  1.883709 -1.530392 -0.514613\n",
       "2020-11-09 18:45:00 -1.748583 -1.046712 -0.068438 -0.203119"
      ]
     },
     "execution_count": 12,
     "metadata": {},
     "output_type": "execute_result"
    }
   ],
   "source": [
    "df.head()"
   ]
  },
  {
   "cell_type": "code",
   "execution_count": 13,
   "metadata": {
    "ExecuteTime": {
     "end_time": "2020-11-13T14:32:21.495831Z",
     "start_time": "2020-11-13T14:32:21.484374Z"
    }
   },
   "outputs": [
    {
     "data": {
      "text/html": [
       "<div>\n",
       "<style scoped>\n",
       "    .dataframe tbody tr th:only-of-type {\n",
       "        vertical-align: middle;\n",
       "    }\n",
       "\n",
       "    .dataframe tbody tr th {\n",
       "        vertical-align: top;\n",
       "    }\n",
       "\n",
       "    .dataframe thead th {\n",
       "        text-align: right;\n",
       "    }\n",
       "</style>\n",
       "<table border=\"1\" class=\"dataframe\">\n",
       "  <thead>\n",
       "    <tr style=\"text-align: right;\">\n",
       "      <th></th>\n",
       "      <th>A</th>\n",
       "      <th>B</th>\n",
       "      <th>C</th>\n",
       "      <th>D</th>\n",
       "    </tr>\n",
       "  </thead>\n",
       "  <tbody>\n",
       "    <tr>\n",
       "      <th>2020-11-09 20:45:00</th>\n",
       "      <td>-1.514427</td>\n",
       "      <td>-0.007967</td>\n",
       "      <td>0.074549</td>\n",
       "      <td>-0.102735</td>\n",
       "    </tr>\n",
       "    <tr>\n",
       "      <th>2020-11-09 21:45:00</th>\n",
       "      <td>1.232187</td>\n",
       "      <td>-0.113355</td>\n",
       "      <td>0.215272</td>\n",
       "      <td>-1.435785</td>\n",
       "    </tr>\n",
       "    <tr>\n",
       "      <th>2020-11-09 22:45:00</th>\n",
       "      <td>1.639869</td>\n",
       "      <td>0.360515</td>\n",
       "      <td>0.158677</td>\n",
       "      <td>-0.368480</td>\n",
       "    </tr>\n",
       "    <tr>\n",
       "      <th>2020-11-09 23:45:00</th>\n",
       "      <td>2.873189</td>\n",
       "      <td>0.016152</td>\n",
       "      <td>1.507420</td>\n",
       "      <td>-0.535848</td>\n",
       "    </tr>\n",
       "  </tbody>\n",
       "</table>\n",
       "</div>"
      ],
      "text/plain": [
       "                            A         B         C         D\n",
       "2020-11-09 20:45:00 -1.514427 -0.007967  0.074549 -0.102735\n",
       "2020-11-09 21:45:00  1.232187 -0.113355  0.215272 -1.435785\n",
       "2020-11-09 22:45:00  1.639869  0.360515  0.158677 -0.368480\n",
       "2020-11-09 23:45:00  2.873189  0.016152  1.507420 -0.535848"
      ]
     },
     "execution_count": 13,
     "metadata": {},
     "output_type": "execute_result"
    }
   ],
   "source": [
    "df.tail(4)"
   ]
  },
  {
   "cell_type": "code",
   "execution_count": 14,
   "metadata": {
    "ExecuteTime": {
     "end_time": "2020-11-13T14:32:23.612591Z",
     "start_time": "2020-11-13T14:32:23.606058Z"
    }
   },
   "outputs": [
    {
     "data": {
      "text/plain": [
       "DatetimeIndex(['2020-11-09 14:45:00', '2020-11-09 15:45:00',\n",
       "               '2020-11-09 16:45:00', '2020-11-09 17:45:00',\n",
       "               '2020-11-09 18:45:00', '2020-11-09 19:45:00',\n",
       "               '2020-11-09 20:45:00', '2020-11-09 21:45:00',\n",
       "               '2020-11-09 22:45:00', '2020-11-09 23:45:00'],\n",
       "              dtype='datetime64[ns]', freq='H')"
      ]
     },
     "execution_count": 14,
     "metadata": {},
     "output_type": "execute_result"
    }
   ],
   "source": [
    "df.index"
   ]
  },
  {
   "cell_type": "code",
   "execution_count": 15,
   "metadata": {
    "ExecuteTime": {
     "end_time": "2020-11-13T14:32:25.762594Z",
     "start_time": "2020-11-13T14:32:25.756038Z"
    }
   },
   "outputs": [
    {
     "data": {
      "text/plain": [
       "Index(['A', 'B', 'C', 'D'], dtype='object')"
      ]
     },
     "execution_count": 15,
     "metadata": {},
     "output_type": "execute_result"
    }
   ],
   "source": [
    "df.columns"
   ]
  },
  {
   "cell_type": "code",
   "execution_count": 16,
   "metadata": {
    "ExecuteTime": {
     "end_time": "2020-11-13T14:32:28.013854Z",
     "start_time": "2020-11-13T14:32:28.008040Z"
    }
   },
   "outputs": [
    {
     "data": {
      "text/plain": [
       "array([[ 0.38409655, -0.49806977,  0.97270206, -0.49253577],\n",
       "       [ 0.70551624, -0.52707871,  0.08033311, -0.16653391],\n",
       "       [-0.93089723, -1.4207704 ,  1.15642865, -1.27738251],\n",
       "       [ 0.05925286,  1.88370934, -1.5303919 , -0.51461299],\n",
       "       [-1.74858312, -1.0467119 , -0.06843776, -0.20311877],\n",
       "       [-0.69773503, -1.15725836,  0.20600608, -0.11311318],\n",
       "       [-1.51442653, -0.00796728,  0.07454874, -0.10273535],\n",
       "       [ 1.23218716, -0.11335527,  0.21527227, -1.43578544],\n",
       "       [ 1.63986922,  0.36051497,  0.15867712, -0.36847989],\n",
       "       [ 2.87318912,  0.0161524 ,  1.50742031, -0.53584813]])"
      ]
     },
     "execution_count": 16,
     "metadata": {},
     "output_type": "execute_result"
    }
   ],
   "source": [
    "df.values"
   ]
  },
  {
   "cell_type": "code",
   "execution_count": 17,
   "metadata": {
    "ExecuteTime": {
     "end_time": "2020-11-13T14:32:30.089218Z",
     "start_time": "2020-11-13T14:32:30.067981Z"
    }
   },
   "outputs": [
    {
     "data": {
      "text/html": [
       "<div>\n",
       "<style scoped>\n",
       "    .dataframe tbody tr th:only-of-type {\n",
       "        vertical-align: middle;\n",
       "    }\n",
       "\n",
       "    .dataframe tbody tr th {\n",
       "        vertical-align: top;\n",
       "    }\n",
       "\n",
       "    .dataframe thead th {\n",
       "        text-align: right;\n",
       "    }\n",
       "</style>\n",
       "<table border=\"1\" class=\"dataframe\">\n",
       "  <thead>\n",
       "    <tr style=\"text-align: right;\">\n",
       "      <th></th>\n",
       "      <th>A</th>\n",
       "      <th>B</th>\n",
       "      <th>C</th>\n",
       "      <th>D</th>\n",
       "    </tr>\n",
       "  </thead>\n",
       "  <tbody>\n",
       "    <tr>\n",
       "      <th>count</th>\n",
       "      <td>10.000000</td>\n",
       "      <td>10.000000</td>\n",
       "      <td>10.000000</td>\n",
       "      <td>10.000000</td>\n",
       "    </tr>\n",
       "    <tr>\n",
       "      <th>mean</th>\n",
       "      <td>0.200247</td>\n",
       "      <td>-0.251083</td>\n",
       "      <td>0.277256</td>\n",
       "      <td>-0.521015</td>\n",
       "    </tr>\n",
       "    <tr>\n",
       "      <th>std</th>\n",
       "      <td>1.468745</td>\n",
       "      <td>0.945187</td>\n",
       "      <td>0.833989</td>\n",
       "      <td>0.471557</td>\n",
       "    </tr>\n",
       "    <tr>\n",
       "      <th>min</th>\n",
       "      <td>-1.748583</td>\n",
       "      <td>-1.420770</td>\n",
       "      <td>-1.530392</td>\n",
       "      <td>-1.435785</td>\n",
       "    </tr>\n",
       "    <tr>\n",
       "      <th>25%</th>\n",
       "      <td>-0.872607</td>\n",
       "      <td>-0.916804</td>\n",
       "      <td>0.075995</td>\n",
       "      <td>-0.530539</td>\n",
       "    </tr>\n",
       "    <tr>\n",
       "      <th>50%</th>\n",
       "      <td>0.221675</td>\n",
       "      <td>-0.305713</td>\n",
       "      <td>0.182342</td>\n",
       "      <td>-0.430508</td>\n",
       "    </tr>\n",
       "    <tr>\n",
       "      <th>75%</th>\n",
       "      <td>1.100519</td>\n",
       "      <td>0.010122</td>\n",
       "      <td>0.783345</td>\n",
       "      <td>-0.175680</td>\n",
       "    </tr>\n",
       "    <tr>\n",
       "      <th>max</th>\n",
       "      <td>2.873189</td>\n",
       "      <td>1.883709</td>\n",
       "      <td>1.507420</td>\n",
       "      <td>-0.102735</td>\n",
       "    </tr>\n",
       "  </tbody>\n",
       "</table>\n",
       "</div>"
      ],
      "text/plain": [
       "               A          B          C          D\n",
       "count  10.000000  10.000000  10.000000  10.000000\n",
       "mean    0.200247  -0.251083   0.277256  -0.521015\n",
       "std     1.468745   0.945187   0.833989   0.471557\n",
       "min    -1.748583  -1.420770  -1.530392  -1.435785\n",
       "25%    -0.872607  -0.916804   0.075995  -0.530539\n",
       "50%     0.221675  -0.305713   0.182342  -0.430508\n",
       "75%     1.100519   0.010122   0.783345  -0.175680\n",
       "max     2.873189   1.883709   1.507420  -0.102735"
      ]
     },
     "execution_count": 17,
     "metadata": {},
     "output_type": "execute_result"
    }
   ],
   "source": [
    "df.describe()"
   ]
  },
  {
   "cell_type": "code",
   "execution_count": 18,
   "metadata": {
    "ExecuteTime": {
     "end_time": "2020-11-13T14:32:32.507278Z",
     "start_time": "2020-11-13T14:32:32.494806Z"
    }
   },
   "outputs": [
    {
     "data": {
      "text/html": [
       "<div>\n",
       "<style scoped>\n",
       "    .dataframe tbody tr th:only-of-type {\n",
       "        vertical-align: middle;\n",
       "    }\n",
       "\n",
       "    .dataframe tbody tr th {\n",
       "        vertical-align: top;\n",
       "    }\n",
       "\n",
       "    .dataframe thead th {\n",
       "        text-align: right;\n",
       "    }\n",
       "</style>\n",
       "<table border=\"1\" class=\"dataframe\">\n",
       "  <thead>\n",
       "    <tr style=\"text-align: right;\">\n",
       "      <th></th>\n",
       "      <th>2020-11-09 14:45:00</th>\n",
       "      <th>2020-11-09 15:45:00</th>\n",
       "      <th>2020-11-09 16:45:00</th>\n",
       "      <th>2020-11-09 17:45:00</th>\n",
       "      <th>2020-11-09 18:45:00</th>\n",
       "      <th>2020-11-09 19:45:00</th>\n",
       "      <th>2020-11-09 20:45:00</th>\n",
       "      <th>2020-11-09 21:45:00</th>\n",
       "      <th>2020-11-09 22:45:00</th>\n",
       "      <th>2020-11-09 23:45:00</th>\n",
       "    </tr>\n",
       "  </thead>\n",
       "  <tbody>\n",
       "    <tr>\n",
       "      <th>A</th>\n",
       "      <td>0.384097</td>\n",
       "      <td>0.705516</td>\n",
       "      <td>-0.930897</td>\n",
       "      <td>0.059253</td>\n",
       "      <td>-1.748583</td>\n",
       "      <td>-0.697735</td>\n",
       "      <td>-1.514427</td>\n",
       "      <td>1.232187</td>\n",
       "      <td>1.639869</td>\n",
       "      <td>2.873189</td>\n",
       "    </tr>\n",
       "    <tr>\n",
       "      <th>B</th>\n",
       "      <td>-0.498070</td>\n",
       "      <td>-0.527079</td>\n",
       "      <td>-1.420770</td>\n",
       "      <td>1.883709</td>\n",
       "      <td>-1.046712</td>\n",
       "      <td>-1.157258</td>\n",
       "      <td>-0.007967</td>\n",
       "      <td>-0.113355</td>\n",
       "      <td>0.360515</td>\n",
       "      <td>0.016152</td>\n",
       "    </tr>\n",
       "    <tr>\n",
       "      <th>C</th>\n",
       "      <td>0.972702</td>\n",
       "      <td>0.080333</td>\n",
       "      <td>1.156429</td>\n",
       "      <td>-1.530392</td>\n",
       "      <td>-0.068438</td>\n",
       "      <td>0.206006</td>\n",
       "      <td>0.074549</td>\n",
       "      <td>0.215272</td>\n",
       "      <td>0.158677</td>\n",
       "      <td>1.507420</td>\n",
       "    </tr>\n",
       "    <tr>\n",
       "      <th>D</th>\n",
       "      <td>-0.492536</td>\n",
       "      <td>-0.166534</td>\n",
       "      <td>-1.277383</td>\n",
       "      <td>-0.514613</td>\n",
       "      <td>-0.203119</td>\n",
       "      <td>-0.113113</td>\n",
       "      <td>-0.102735</td>\n",
       "      <td>-1.435785</td>\n",
       "      <td>-0.368480</td>\n",
       "      <td>-0.535848</td>\n",
       "    </tr>\n",
       "  </tbody>\n",
       "</table>\n",
       "</div>"
      ],
      "text/plain": [
       "   2020-11-09 14:45:00  2020-11-09 15:45:00  2020-11-09 16:45:00  \\\n",
       "A             0.384097             0.705516            -0.930897   \n",
       "B            -0.498070            -0.527079            -1.420770   \n",
       "C             0.972702             0.080333             1.156429   \n",
       "D            -0.492536            -0.166534            -1.277383   \n",
       "\n",
       "   2020-11-09 17:45:00  2020-11-09 18:45:00  2020-11-09 19:45:00  \\\n",
       "A             0.059253            -1.748583            -0.697735   \n",
       "B             1.883709            -1.046712            -1.157258   \n",
       "C            -1.530392            -0.068438             0.206006   \n",
       "D            -0.514613            -0.203119            -0.113113   \n",
       "\n",
       "   2020-11-09 20:45:00  2020-11-09 21:45:00  2020-11-09 22:45:00  \\\n",
       "A            -1.514427             1.232187             1.639869   \n",
       "B            -0.007967            -0.113355             0.360515   \n",
       "C             0.074549             0.215272             0.158677   \n",
       "D            -0.102735            -1.435785            -0.368480   \n",
       "\n",
       "   2020-11-09 23:45:00  \n",
       "A             2.873189  \n",
       "B             0.016152  \n",
       "C             1.507420  \n",
       "D            -0.535848  "
      ]
     },
     "execution_count": 18,
     "metadata": {},
     "output_type": "execute_result"
    }
   ],
   "source": [
    "df.T"
   ]
  },
  {
   "cell_type": "code",
   "execution_count": 19,
   "metadata": {
    "ExecuteTime": {
     "end_time": "2020-11-13T14:32:35.018536Z",
     "start_time": "2020-11-13T14:32:35.007918Z"
    }
   },
   "outputs": [
    {
     "data": {
      "text/html": [
       "<div>\n",
       "<style scoped>\n",
       "    .dataframe tbody tr th:only-of-type {\n",
       "        vertical-align: middle;\n",
       "    }\n",
       "\n",
       "    .dataframe tbody tr th {\n",
       "        vertical-align: top;\n",
       "    }\n",
       "\n",
       "    .dataframe thead th {\n",
       "        text-align: right;\n",
       "    }\n",
       "</style>\n",
       "<table border=\"1\" class=\"dataframe\">\n",
       "  <thead>\n",
       "    <tr style=\"text-align: right;\">\n",
       "      <th></th>\n",
       "      <th>D</th>\n",
       "      <th>C</th>\n",
       "      <th>B</th>\n",
       "      <th>A</th>\n",
       "    </tr>\n",
       "  </thead>\n",
       "  <tbody>\n",
       "    <tr>\n",
       "      <th>2020-11-09 14:45:00</th>\n",
       "      <td>-0.492536</td>\n",
       "      <td>0.972702</td>\n",
       "      <td>-0.498070</td>\n",
       "      <td>0.384097</td>\n",
       "    </tr>\n",
       "    <tr>\n",
       "      <th>2020-11-09 15:45:00</th>\n",
       "      <td>-0.166534</td>\n",
       "      <td>0.080333</td>\n",
       "      <td>-0.527079</td>\n",
       "      <td>0.705516</td>\n",
       "    </tr>\n",
       "    <tr>\n",
       "      <th>2020-11-09 16:45:00</th>\n",
       "      <td>-1.277383</td>\n",
       "      <td>1.156429</td>\n",
       "      <td>-1.420770</td>\n",
       "      <td>-0.930897</td>\n",
       "    </tr>\n",
       "    <tr>\n",
       "      <th>2020-11-09 17:45:00</th>\n",
       "      <td>-0.514613</td>\n",
       "      <td>-1.530392</td>\n",
       "      <td>1.883709</td>\n",
       "      <td>0.059253</td>\n",
       "    </tr>\n",
       "    <tr>\n",
       "      <th>2020-11-09 18:45:00</th>\n",
       "      <td>-0.203119</td>\n",
       "      <td>-0.068438</td>\n",
       "      <td>-1.046712</td>\n",
       "      <td>-1.748583</td>\n",
       "    </tr>\n",
       "    <tr>\n",
       "      <th>2020-11-09 19:45:00</th>\n",
       "      <td>-0.113113</td>\n",
       "      <td>0.206006</td>\n",
       "      <td>-1.157258</td>\n",
       "      <td>-0.697735</td>\n",
       "    </tr>\n",
       "    <tr>\n",
       "      <th>2020-11-09 20:45:00</th>\n",
       "      <td>-0.102735</td>\n",
       "      <td>0.074549</td>\n",
       "      <td>-0.007967</td>\n",
       "      <td>-1.514427</td>\n",
       "    </tr>\n",
       "    <tr>\n",
       "      <th>2020-11-09 21:45:00</th>\n",
       "      <td>-1.435785</td>\n",
       "      <td>0.215272</td>\n",
       "      <td>-0.113355</td>\n",
       "      <td>1.232187</td>\n",
       "    </tr>\n",
       "    <tr>\n",
       "      <th>2020-11-09 22:45:00</th>\n",
       "      <td>-0.368480</td>\n",
       "      <td>0.158677</td>\n",
       "      <td>0.360515</td>\n",
       "      <td>1.639869</td>\n",
       "    </tr>\n",
       "    <tr>\n",
       "      <th>2020-11-09 23:45:00</th>\n",
       "      <td>-0.535848</td>\n",
       "      <td>1.507420</td>\n",
       "      <td>0.016152</td>\n",
       "      <td>2.873189</td>\n",
       "    </tr>\n",
       "  </tbody>\n",
       "</table>\n",
       "</div>"
      ],
      "text/plain": [
       "                            D         C         B         A\n",
       "2020-11-09 14:45:00 -0.492536  0.972702 -0.498070  0.384097\n",
       "2020-11-09 15:45:00 -0.166534  0.080333 -0.527079  0.705516\n",
       "2020-11-09 16:45:00 -1.277383  1.156429 -1.420770 -0.930897\n",
       "2020-11-09 17:45:00 -0.514613 -1.530392  1.883709  0.059253\n",
       "2020-11-09 18:45:00 -0.203119 -0.068438 -1.046712 -1.748583\n",
       "2020-11-09 19:45:00 -0.113113  0.206006 -1.157258 -0.697735\n",
       "2020-11-09 20:45:00 -0.102735  0.074549 -0.007967 -1.514427\n",
       "2020-11-09 21:45:00 -1.435785  0.215272 -0.113355  1.232187\n",
       "2020-11-09 22:45:00 -0.368480  0.158677  0.360515  1.639869\n",
       "2020-11-09 23:45:00 -0.535848  1.507420  0.016152  2.873189"
      ]
     },
     "execution_count": 19,
     "metadata": {},
     "output_type": "execute_result"
    }
   ],
   "source": [
    "df.sort_index(axis=1,ascending=False)"
   ]
  },
  {
   "cell_type": "code",
   "execution_count": 20,
   "metadata": {
    "ExecuteTime": {
     "end_time": "2020-11-13T14:32:37.446117Z",
     "start_time": "2020-11-13T14:32:37.439086Z"
    }
   },
   "outputs": [
    {
     "data": {
      "text/html": [
       "<div>\n",
       "<style scoped>\n",
       "    .dataframe tbody tr th:only-of-type {\n",
       "        vertical-align: middle;\n",
       "    }\n",
       "\n",
       "    .dataframe tbody tr th {\n",
       "        vertical-align: top;\n",
       "    }\n",
       "\n",
       "    .dataframe thead th {\n",
       "        text-align: right;\n",
       "    }\n",
       "</style>\n",
       "<table border=\"1\" class=\"dataframe\">\n",
       "  <thead>\n",
       "    <tr style=\"text-align: right;\">\n",
       "      <th></th>\n",
       "      <th>A</th>\n",
       "      <th>B</th>\n",
       "      <th>C</th>\n",
       "      <th>D</th>\n",
       "    </tr>\n",
       "  </thead>\n",
       "  <tbody>\n",
       "    <tr>\n",
       "      <th>2020-11-09 17:45:00</th>\n",
       "      <td>0.059253</td>\n",
       "      <td>1.883709</td>\n",
       "      <td>-1.530392</td>\n",
       "      <td>-0.514613</td>\n",
       "    </tr>\n",
       "    <tr>\n",
       "      <th>2020-11-09 18:45:00</th>\n",
       "      <td>-1.748583</td>\n",
       "      <td>-1.046712</td>\n",
       "      <td>-0.068438</td>\n",
       "      <td>-0.203119</td>\n",
       "    </tr>\n",
       "    <tr>\n",
       "      <th>2020-11-09 20:45:00</th>\n",
       "      <td>-1.514427</td>\n",
       "      <td>-0.007967</td>\n",
       "      <td>0.074549</td>\n",
       "      <td>-0.102735</td>\n",
       "    </tr>\n",
       "    <tr>\n",
       "      <th>2020-11-09 15:45:00</th>\n",
       "      <td>0.705516</td>\n",
       "      <td>-0.527079</td>\n",
       "      <td>0.080333</td>\n",
       "      <td>-0.166534</td>\n",
       "    </tr>\n",
       "    <tr>\n",
       "      <th>2020-11-09 22:45:00</th>\n",
       "      <td>1.639869</td>\n",
       "      <td>0.360515</td>\n",
       "      <td>0.158677</td>\n",
       "      <td>-0.368480</td>\n",
       "    </tr>\n",
       "    <tr>\n",
       "      <th>2020-11-09 19:45:00</th>\n",
       "      <td>-0.697735</td>\n",
       "      <td>-1.157258</td>\n",
       "      <td>0.206006</td>\n",
       "      <td>-0.113113</td>\n",
       "    </tr>\n",
       "    <tr>\n",
       "      <th>2020-11-09 21:45:00</th>\n",
       "      <td>1.232187</td>\n",
       "      <td>-0.113355</td>\n",
       "      <td>0.215272</td>\n",
       "      <td>-1.435785</td>\n",
       "    </tr>\n",
       "    <tr>\n",
       "      <th>2020-11-09 14:45:00</th>\n",
       "      <td>0.384097</td>\n",
       "      <td>-0.498070</td>\n",
       "      <td>0.972702</td>\n",
       "      <td>-0.492536</td>\n",
       "    </tr>\n",
       "    <tr>\n",
       "      <th>2020-11-09 16:45:00</th>\n",
       "      <td>-0.930897</td>\n",
       "      <td>-1.420770</td>\n",
       "      <td>1.156429</td>\n",
       "      <td>-1.277383</td>\n",
       "    </tr>\n",
       "    <tr>\n",
       "      <th>2020-11-09 23:45:00</th>\n",
       "      <td>2.873189</td>\n",
       "      <td>0.016152</td>\n",
       "      <td>1.507420</td>\n",
       "      <td>-0.535848</td>\n",
       "    </tr>\n",
       "  </tbody>\n",
       "</table>\n",
       "</div>"
      ],
      "text/plain": [
       "                            A         B         C         D\n",
       "2020-11-09 17:45:00  0.059253  1.883709 -1.530392 -0.514613\n",
       "2020-11-09 18:45:00 -1.748583 -1.046712 -0.068438 -0.203119\n",
       "2020-11-09 20:45:00 -1.514427 -0.007967  0.074549 -0.102735\n",
       "2020-11-09 15:45:00  0.705516 -0.527079  0.080333 -0.166534\n",
       "2020-11-09 22:45:00  1.639869  0.360515  0.158677 -0.368480\n",
       "2020-11-09 19:45:00 -0.697735 -1.157258  0.206006 -0.113113\n",
       "2020-11-09 21:45:00  1.232187 -0.113355  0.215272 -1.435785\n",
       "2020-11-09 14:45:00  0.384097 -0.498070  0.972702 -0.492536\n",
       "2020-11-09 16:45:00 -0.930897 -1.420770  1.156429 -1.277383\n",
       "2020-11-09 23:45:00  2.873189  0.016152  1.507420 -0.535848"
      ]
     },
     "execution_count": 20,
     "metadata": {},
     "output_type": "execute_result"
    }
   ],
   "source": [
    "df.sort_values(by=\"C\")"
   ]
  },
  {
   "cell_type": "markdown",
   "metadata": {},
   "source": [
    "## Selection\n",
    "\n",
    "### Getting slices\n",
    "\n",
    "The following show how to get part of the DataFrame (i.e. not just the elements)"
   ]
  },
  {
   "cell_type": "code",
   "execution_count": 21,
   "metadata": {
    "ExecuteTime": {
     "end_time": "2020-11-13T14:32:54.016581Z",
     "start_time": "2020-11-13T14:32:54.012491Z"
    }
   },
   "outputs": [
    {
     "name": "stdout",
     "output_type": "stream",
     "text": [
      "2020-11-09 14:45:00    0.384097\n",
      "2020-11-09 15:45:00    0.705516\n",
      "2020-11-09 16:45:00   -0.930897\n",
      "2020-11-09 17:45:00    0.059253\n",
      "2020-11-09 18:45:00   -1.748583\n",
      "2020-11-09 19:45:00   -0.697735\n",
      "2020-11-09 20:45:00   -1.514427\n",
      "2020-11-09 21:45:00    1.232187\n",
      "2020-11-09 22:45:00    1.639869\n",
      "2020-11-09 23:45:00    2.873189\n",
      "Freq: H, Name: A, dtype: float64 \n",
      "\n",
      "2020-11-09 14:45:00    0.384097\n",
      "2020-11-09 15:45:00    0.705516\n",
      "2020-11-09 16:45:00   -0.930897\n",
      "2020-11-09 17:45:00    0.059253\n",
      "2020-11-09 18:45:00   -1.748583\n",
      "2020-11-09 19:45:00   -0.697735\n",
      "2020-11-09 20:45:00   -1.514427\n",
      "2020-11-09 21:45:00    1.232187\n",
      "2020-11-09 22:45:00    1.639869\n",
      "2020-11-09 23:45:00    2.873189\n",
      "Freq: H, Name: A, dtype: float64\n"
     ]
    }
   ],
   "source": [
    "## standard and safe\n",
    "print (df['A'],'\\n')\n",
    "\n",
    "## equivalent but dangerous (imagine blank spaces in the name of the column..)\n",
    "print (df.A)"
   ]
  },
  {
   "cell_type": "code",
   "execution_count": null,
   "metadata": {},
   "outputs": [],
   "source": [
    "# selecting rows by counting\n",
    "print (df[0:3])\n",
    "\n",
    "# or by index\n",
    "print (df[\"2020-11-09 14:45:00\":\"2020-11-09 16:45:00\"])"
   ]
  },
  {
   "cell_type": "markdown",
   "metadata": {},
   "source": [
    "### Selection by label"
   ]
  },
  {
   "cell_type": "code",
   "execution_count": null,
   "metadata": {},
   "outputs": [],
   "source": [
    "# getting a cross section (part of the DataFrame) using a label\n",
    "df.loc[dates[0]]"
   ]
  },
  {
   "cell_type": "code",
   "execution_count": null,
   "metadata": {},
   "outputs": [],
   "source": [
    "# selecting on a multi-axis by label:\n",
    "df.loc[:,['A','B']]"
   ]
  },
  {
   "cell_type": "code",
   "execution_count": null,
   "metadata": {},
   "outputs": [],
   "source": [
    "# showing label slicing, both endpoints are included:\n",
    "df.loc['2020-11-09 18:45:00':'2020-11-09 20:45:00',['A','B']]"
   ]
  },
  {
   "cell_type": "code",
   "execution_count": null,
   "metadata": {},
   "outputs": [],
   "source": [
    "# getting an individual element\n",
    "print (df.loc[dates[1],'A'])\n",
    "\n",
    "# equivalently\n",
    "print (df.at[dates[1],'A'])"
   ]
  },
  {
   "cell_type": "markdown",
   "metadata": {},
   "source": [
    "### Selecting by position"
   ]
  },
  {
   "cell_type": "code",
   "execution_count": null,
   "metadata": {},
   "outputs": [],
   "source": [
    "# select via the position of the passed integers:\n",
    "print (df.iloc[3],'\\n')\n",
    "\n",
    "# notation similar to numpy/python\n",
    "print (df.iloc[3:5,0:2])"
   ]
  },
  {
   "cell_type": "code",
   "execution_count": null,
   "metadata": {},
   "outputs": [],
   "source": [
    "# selecting raws 1,2 and 4 for columns 0 and 2\n",
    "df.iloc[[1,2,4],[0,2]]"
   ]
  },
  {
   "cell_type": "code",
   "execution_count": null,
   "metadata": {},
   "outputs": [],
   "source": [
    "# slicing rows explicitly\n",
    "print (df.iloc[1:3,:],'\\n')\n",
    "\n",
    "# slicing columns explicitly\n",
    "print (df.iloc[:,1:3])\n"
   ]
  },
  {
   "cell_type": "code",
   "execution_count": null,
   "metadata": {},
   "outputs": [],
   "source": [
    "# selecting an individual element by position\n",
    "df.iloc[1,1]\n",
    "df.iat[1,1]\n"
   ]
  },
  {
   "cell_type": "markdown",
   "metadata": {},
   "source": [
    "### Boolean index\n",
    "\n",
    "Very powerful way of filtering out data with certain features. Notation is very similar to numpy arrays."
   ]
  },
  {
   "cell_type": "code",
   "execution_count": null,
   "metadata": {},
   "outputs": [],
   "source": [
    "# Filter by a boolean condition on the values of a single column\n",
    "df[df['B'] > 0]"
   ]
  },
  {
   "cell_type": "code",
   "execution_count": 22,
   "metadata": {
    "ExecuteTime": {
     "end_time": "2020-11-13T14:33:43.287385Z",
     "start_time": "2020-11-13T14:33:43.276174Z"
    }
   },
   "outputs": [
    {
     "data": {
      "text/html": [
       "<div>\n",
       "<style scoped>\n",
       "    .dataframe tbody tr th:only-of-type {\n",
       "        vertical-align: middle;\n",
       "    }\n",
       "\n",
       "    .dataframe tbody tr th {\n",
       "        vertical-align: top;\n",
       "    }\n",
       "\n",
       "    .dataframe thead th {\n",
       "        text-align: right;\n",
       "    }\n",
       "</style>\n",
       "<table border=\"1\" class=\"dataframe\">\n",
       "  <thead>\n",
       "    <tr style=\"text-align: right;\">\n",
       "      <th></th>\n",
       "      <th>A</th>\n",
       "      <th>B</th>\n",
       "      <th>C</th>\n",
       "      <th>D</th>\n",
       "    </tr>\n",
       "  </thead>\n",
       "  <tbody>\n",
       "    <tr>\n",
       "      <th>2020-11-09 14:45:00</th>\n",
       "      <td>0.384097</td>\n",
       "      <td>NaN</td>\n",
       "      <td>0.972702</td>\n",
       "      <td>NaN</td>\n",
       "    </tr>\n",
       "    <tr>\n",
       "      <th>2020-11-09 15:45:00</th>\n",
       "      <td>0.705516</td>\n",
       "      <td>NaN</td>\n",
       "      <td>0.080333</td>\n",
       "      <td>NaN</td>\n",
       "    </tr>\n",
       "    <tr>\n",
       "      <th>2020-11-09 16:45:00</th>\n",
       "      <td>NaN</td>\n",
       "      <td>NaN</td>\n",
       "      <td>1.156429</td>\n",
       "      <td>NaN</td>\n",
       "    </tr>\n",
       "    <tr>\n",
       "      <th>2020-11-09 17:45:00</th>\n",
       "      <td>0.059253</td>\n",
       "      <td>1.883709</td>\n",
       "      <td>NaN</td>\n",
       "      <td>NaN</td>\n",
       "    </tr>\n",
       "    <tr>\n",
       "      <th>2020-11-09 18:45:00</th>\n",
       "      <td>NaN</td>\n",
       "      <td>NaN</td>\n",
       "      <td>NaN</td>\n",
       "      <td>NaN</td>\n",
       "    </tr>\n",
       "    <tr>\n",
       "      <th>2020-11-09 19:45:00</th>\n",
       "      <td>NaN</td>\n",
       "      <td>NaN</td>\n",
       "      <td>0.206006</td>\n",
       "      <td>NaN</td>\n",
       "    </tr>\n",
       "    <tr>\n",
       "      <th>2020-11-09 20:45:00</th>\n",
       "      <td>NaN</td>\n",
       "      <td>NaN</td>\n",
       "      <td>0.074549</td>\n",
       "      <td>NaN</td>\n",
       "    </tr>\n",
       "    <tr>\n",
       "      <th>2020-11-09 21:45:00</th>\n",
       "      <td>1.232187</td>\n",
       "      <td>NaN</td>\n",
       "      <td>0.215272</td>\n",
       "      <td>NaN</td>\n",
       "    </tr>\n",
       "    <tr>\n",
       "      <th>2020-11-09 22:45:00</th>\n",
       "      <td>1.639869</td>\n",
       "      <td>0.360515</td>\n",
       "      <td>0.158677</td>\n",
       "      <td>NaN</td>\n",
       "    </tr>\n",
       "    <tr>\n",
       "      <th>2020-11-09 23:45:00</th>\n",
       "      <td>2.873189</td>\n",
       "      <td>0.016152</td>\n",
       "      <td>1.507420</td>\n",
       "      <td>NaN</td>\n",
       "    </tr>\n",
       "  </tbody>\n",
       "</table>\n",
       "</div>"
      ],
      "text/plain": [
       "                            A         B         C   D\n",
       "2020-11-09 14:45:00  0.384097       NaN  0.972702 NaN\n",
       "2020-11-09 15:45:00  0.705516       NaN  0.080333 NaN\n",
       "2020-11-09 16:45:00       NaN       NaN  1.156429 NaN\n",
       "2020-11-09 17:45:00  0.059253  1.883709       NaN NaN\n",
       "2020-11-09 18:45:00       NaN       NaN       NaN NaN\n",
       "2020-11-09 19:45:00       NaN       NaN  0.206006 NaN\n",
       "2020-11-09 20:45:00       NaN       NaN  0.074549 NaN\n",
       "2020-11-09 21:45:00  1.232187       NaN  0.215272 NaN\n",
       "2020-11-09 22:45:00  1.639869  0.360515  0.158677 NaN\n",
       "2020-11-09 23:45:00  2.873189  0.016152  1.507420 NaN"
      ]
     },
     "execution_count": 22,
     "metadata": {},
     "output_type": "execute_result"
    }
   ],
   "source": [
    "# Selecting on the basis of boolean conditions applied to the whole DataFrame\n",
    "df[df>0]\n",
    "\n",
    "# a DataFrame with the same shape is returned, with NaN's where condition is not met"
   ]
  },
  {
   "cell_type": "markdown",
   "metadata": {},
   "source": [
    "### Setting\n",
    "\n",
    "Combination of selection and setting of values"
   ]
  },
  {
   "cell_type": "code",
   "execution_count": 24,
   "metadata": {
    "ExecuteTime": {
     "end_time": "2020-11-13T14:34:00.699911Z",
     "start_time": "2020-11-13T14:34:00.692136Z"
    }
   },
   "outputs": [],
   "source": [
    "# setting values by label (same as by position)\n",
    "df.at[dates[0],'A'] = 0\n",
    "\n",
    "# setting and assigning a numpy array\n",
    "df.loc[:,'D'] = np.array([5] * len(df))\n",
    "\n",
    "# defining a brend new column\n",
    "df['E'] = np.arange(len(df))*0.5\n",
    "\n",
    "# defining a brend new column by means of a pd.Series: indexes must be the same!\n",
    "df['E prime'] = pd.Series(np.arange(len(df))*2, index=df.index)\n"
   ]
  },
  {
   "cell_type": "code",
   "execution_count": 25,
   "metadata": {
    "ExecuteTime": {
     "end_time": "2020-11-13T14:34:03.874579Z",
     "start_time": "2020-11-13T14:34:03.864218Z"
    }
   },
   "outputs": [
    {
     "data": {
      "text/html": [
       "<div>\n",
       "<style scoped>\n",
       "    .dataframe tbody tr th:only-of-type {\n",
       "        vertical-align: middle;\n",
       "    }\n",
       "\n",
       "    .dataframe tbody tr th {\n",
       "        vertical-align: top;\n",
       "    }\n",
       "\n",
       "    .dataframe thead th {\n",
       "        text-align: right;\n",
       "    }\n",
       "</style>\n",
       "<table border=\"1\" class=\"dataframe\">\n",
       "  <thead>\n",
       "    <tr style=\"text-align: right;\">\n",
       "      <th></th>\n",
       "      <th>A</th>\n",
       "      <th>B</th>\n",
       "      <th>C</th>\n",
       "      <th>D</th>\n",
       "      <th>E</th>\n",
       "      <th>E prime</th>\n",
       "      <th>cosine</th>\n",
       "    </tr>\n",
       "  </thead>\n",
       "  <tbody>\n",
       "    <tr>\n",
       "      <th>2020-11-09 14:45:00</th>\n",
       "      <td>0.000000</td>\n",
       "      <td>-0.498070</td>\n",
       "      <td>0.972702</td>\n",
       "      <td>5</td>\n",
       "      <td>0.0</td>\n",
       "      <td>0</td>\n",
       "      <td>1.000000</td>\n",
       "    </tr>\n",
       "    <tr>\n",
       "      <th>2020-11-09 15:45:00</th>\n",
       "      <td>0.705516</td>\n",
       "      <td>-0.527079</td>\n",
       "      <td>0.080333</td>\n",
       "      <td>5</td>\n",
       "      <td>0.5</td>\n",
       "      <td>2</td>\n",
       "      <td>0.999962</td>\n",
       "    </tr>\n",
       "    <tr>\n",
       "      <th>2020-11-09 16:45:00</th>\n",
       "      <td>-0.930897</td>\n",
       "      <td>-1.420770</td>\n",
       "      <td>1.156429</td>\n",
       "      <td>5</td>\n",
       "      <td>1.0</td>\n",
       "      <td>4</td>\n",
       "      <td>0.999848</td>\n",
       "    </tr>\n",
       "    <tr>\n",
       "      <th>2020-11-09 17:45:00</th>\n",
       "      <td>0.059253</td>\n",
       "      <td>1.883709</td>\n",
       "      <td>-1.530392</td>\n",
       "      <td>5</td>\n",
       "      <td>1.5</td>\n",
       "      <td>6</td>\n",
       "      <td>0.999657</td>\n",
       "    </tr>\n",
       "    <tr>\n",
       "      <th>2020-11-09 18:45:00</th>\n",
       "      <td>-1.748583</td>\n",
       "      <td>-1.046712</td>\n",
       "      <td>-0.068438</td>\n",
       "      <td>5</td>\n",
       "      <td>2.0</td>\n",
       "      <td>8</td>\n",
       "      <td>0.999391</td>\n",
       "    </tr>\n",
       "    <tr>\n",
       "      <th>2020-11-09 19:45:00</th>\n",
       "      <td>-0.697735</td>\n",
       "      <td>-1.157258</td>\n",
       "      <td>0.206006</td>\n",
       "      <td>5</td>\n",
       "      <td>2.5</td>\n",
       "      <td>10</td>\n",
       "      <td>0.999048</td>\n",
       "    </tr>\n",
       "    <tr>\n",
       "      <th>2020-11-09 20:45:00</th>\n",
       "      <td>-1.514427</td>\n",
       "      <td>-0.007967</td>\n",
       "      <td>0.074549</td>\n",
       "      <td>5</td>\n",
       "      <td>3.0</td>\n",
       "      <td>12</td>\n",
       "      <td>0.998630</td>\n",
       "    </tr>\n",
       "    <tr>\n",
       "      <th>2020-11-09 21:45:00</th>\n",
       "      <td>1.232187</td>\n",
       "      <td>-0.113355</td>\n",
       "      <td>0.215272</td>\n",
       "      <td>5</td>\n",
       "      <td>3.5</td>\n",
       "      <td>14</td>\n",
       "      <td>0.998135</td>\n",
       "    </tr>\n",
       "    <tr>\n",
       "      <th>2020-11-09 22:45:00</th>\n",
       "      <td>1.639869</td>\n",
       "      <td>0.360515</td>\n",
       "      <td>0.158677</td>\n",
       "      <td>5</td>\n",
       "      <td>4.0</td>\n",
       "      <td>16</td>\n",
       "      <td>0.997564</td>\n",
       "    </tr>\n",
       "    <tr>\n",
       "      <th>2020-11-09 23:45:00</th>\n",
       "      <td>2.873189</td>\n",
       "      <td>0.016152</td>\n",
       "      <td>1.507420</td>\n",
       "      <td>5</td>\n",
       "      <td>4.5</td>\n",
       "      <td>18</td>\n",
       "      <td>0.996917</td>\n",
       "    </tr>\n",
       "  </tbody>\n",
       "</table>\n",
       "</div>"
      ],
      "text/plain": [
       "                            A         B         C  D    E  E prime    cosine\n",
       "2020-11-09 14:45:00  0.000000 -0.498070  0.972702  5  0.0        0  1.000000\n",
       "2020-11-09 15:45:00  0.705516 -0.527079  0.080333  5  0.5        2  0.999962\n",
       "2020-11-09 16:45:00 -0.930897 -1.420770  1.156429  5  1.0        4  0.999848\n",
       "2020-11-09 17:45:00  0.059253  1.883709 -1.530392  5  1.5        6  0.999657\n",
       "2020-11-09 18:45:00 -1.748583 -1.046712 -0.068438  5  2.0        8  0.999391\n",
       "2020-11-09 19:45:00 -0.697735 -1.157258  0.206006  5  2.5       10  0.999048\n",
       "2020-11-09 20:45:00 -1.514427 -0.007967  0.074549  5  3.0       12  0.998630\n",
       "2020-11-09 21:45:00  1.232187 -0.113355  0.215272  5  3.5       14  0.998135\n",
       "2020-11-09 22:45:00  1.639869  0.360515  0.158677  5  4.0       16  0.997564\n",
       "2020-11-09 23:45:00  2.873189  0.016152  1.507420  5  4.5       18  0.996917"
      ]
     },
     "execution_count": 25,
     "metadata": {},
     "output_type": "execute_result"
    }
   ],
   "source": [
    "def dcos(theta):\n",
    "    theta = theta*(np.pi/180)\n",
    "    return np.cos(theta)\n",
    " \n",
    "df['cosine'] = pd.Series(df[\"E\"].apply(dcos), index=df.index)\n",
    "df"
   ]
  },
  {
   "cell_type": "code",
   "execution_count": 26,
   "metadata": {
    "ExecuteTime": {
     "end_time": "2020-11-13T14:34:13.007147Z",
     "start_time": "2020-11-13T14:34:12.991037Z"
    }
   },
   "outputs": [
    {
     "data": {
      "text/html": [
       "<div>\n",
       "<style scoped>\n",
       "    .dataframe tbody tr th:only-of-type {\n",
       "        vertical-align: middle;\n",
       "    }\n",
       "\n",
       "    .dataframe tbody tr th {\n",
       "        vertical-align: top;\n",
       "    }\n",
       "\n",
       "    .dataframe thead th {\n",
       "        text-align: right;\n",
       "    }\n",
       "</style>\n",
       "<table border=\"1\" class=\"dataframe\">\n",
       "  <thead>\n",
       "    <tr style=\"text-align: right;\">\n",
       "      <th></th>\n",
       "      <th>A</th>\n",
       "      <th>B</th>\n",
       "      <th>C</th>\n",
       "      <th>D</th>\n",
       "      <th>E</th>\n",
       "      <th>E prime</th>\n",
       "      <th>cosine</th>\n",
       "    </tr>\n",
       "  </thead>\n",
       "  <tbody>\n",
       "    <tr>\n",
       "      <th>2020-11-09 14:45:00</th>\n",
       "      <td>0.000000</td>\n",
       "      <td>-0.498070</td>\n",
       "      <td>-0.972702</td>\n",
       "      <td>-5</td>\n",
       "      <td>0.0</td>\n",
       "      <td>0</td>\n",
       "      <td>-1.000000</td>\n",
       "    </tr>\n",
       "    <tr>\n",
       "      <th>2020-11-09 15:45:00</th>\n",
       "      <td>-0.705516</td>\n",
       "      <td>-0.527079</td>\n",
       "      <td>-0.080333</td>\n",
       "      <td>-5</td>\n",
       "      <td>-0.5</td>\n",
       "      <td>-2</td>\n",
       "      <td>-0.999962</td>\n",
       "    </tr>\n",
       "    <tr>\n",
       "      <th>2020-11-09 16:45:00</th>\n",
       "      <td>-0.930897</td>\n",
       "      <td>-1.420770</td>\n",
       "      <td>-1.156429</td>\n",
       "      <td>-5</td>\n",
       "      <td>-1.0</td>\n",
       "      <td>-4</td>\n",
       "      <td>-0.999848</td>\n",
       "    </tr>\n",
       "    <tr>\n",
       "      <th>2020-11-09 17:45:00</th>\n",
       "      <td>-0.059253</td>\n",
       "      <td>-1.883709</td>\n",
       "      <td>-1.530392</td>\n",
       "      <td>-5</td>\n",
       "      <td>-1.5</td>\n",
       "      <td>-6</td>\n",
       "      <td>-0.999657</td>\n",
       "    </tr>\n",
       "    <tr>\n",
       "      <th>2020-11-09 18:45:00</th>\n",
       "      <td>-1.748583</td>\n",
       "      <td>-1.046712</td>\n",
       "      <td>-0.068438</td>\n",
       "      <td>-5</td>\n",
       "      <td>-2.0</td>\n",
       "      <td>-8</td>\n",
       "      <td>-0.999391</td>\n",
       "    </tr>\n",
       "    <tr>\n",
       "      <th>2020-11-09 19:45:00</th>\n",
       "      <td>-0.697735</td>\n",
       "      <td>-1.157258</td>\n",
       "      <td>-0.206006</td>\n",
       "      <td>-5</td>\n",
       "      <td>-2.5</td>\n",
       "      <td>-10</td>\n",
       "      <td>-0.999048</td>\n",
       "    </tr>\n",
       "    <tr>\n",
       "      <th>2020-11-09 20:45:00</th>\n",
       "      <td>-1.514427</td>\n",
       "      <td>-0.007967</td>\n",
       "      <td>-0.074549</td>\n",
       "      <td>-5</td>\n",
       "      <td>-3.0</td>\n",
       "      <td>-12</td>\n",
       "      <td>-0.998630</td>\n",
       "    </tr>\n",
       "    <tr>\n",
       "      <th>2020-11-09 21:45:00</th>\n",
       "      <td>-1.232187</td>\n",
       "      <td>-0.113355</td>\n",
       "      <td>-0.215272</td>\n",
       "      <td>-5</td>\n",
       "      <td>-3.5</td>\n",
       "      <td>-14</td>\n",
       "      <td>-0.998135</td>\n",
       "    </tr>\n",
       "    <tr>\n",
       "      <th>2020-11-09 22:45:00</th>\n",
       "      <td>-1.639869</td>\n",
       "      <td>-0.360515</td>\n",
       "      <td>-0.158677</td>\n",
       "      <td>-5</td>\n",
       "      <td>-4.0</td>\n",
       "      <td>-16</td>\n",
       "      <td>-0.997564</td>\n",
       "    </tr>\n",
       "    <tr>\n",
       "      <th>2020-11-09 23:45:00</th>\n",
       "      <td>-2.873189</td>\n",
       "      <td>-0.016152</td>\n",
       "      <td>-1.507420</td>\n",
       "      <td>-5</td>\n",
       "      <td>-4.5</td>\n",
       "      <td>-18</td>\n",
       "      <td>-0.996917</td>\n",
       "    </tr>\n",
       "  </tbody>\n",
       "</table>\n",
       "</div>"
      ],
      "text/plain": [
       "                            A         B         C  D    E  E prime    cosine\n",
       "2020-11-09 14:45:00  0.000000 -0.498070 -0.972702 -5  0.0        0 -1.000000\n",
       "2020-11-09 15:45:00 -0.705516 -0.527079 -0.080333 -5 -0.5       -2 -0.999962\n",
       "2020-11-09 16:45:00 -0.930897 -1.420770 -1.156429 -5 -1.0       -4 -0.999848\n",
       "2020-11-09 17:45:00 -0.059253 -1.883709 -1.530392 -5 -1.5       -6 -0.999657\n",
       "2020-11-09 18:45:00 -1.748583 -1.046712 -0.068438 -5 -2.0       -8 -0.999391\n",
       "2020-11-09 19:45:00 -0.697735 -1.157258 -0.206006 -5 -2.5      -10 -0.999048\n",
       "2020-11-09 20:45:00 -1.514427 -0.007967 -0.074549 -5 -3.0      -12 -0.998630\n",
       "2020-11-09 21:45:00 -1.232187 -0.113355 -0.215272 -5 -3.5      -14 -0.998135\n",
       "2020-11-09 22:45:00 -1.639869 -0.360515 -0.158677 -5 -4.0      -16 -0.997564\n",
       "2020-11-09 23:45:00 -2.873189 -0.016152 -1.507420 -5 -4.5      -18 -0.996917"
      ]
     },
     "execution_count": 26,
     "metadata": {},
     "output_type": "execute_result"
    }
   ],
   "source": [
    "# another example of global setting\n",
    "df2=df.copy()\n",
    "df2[df2>0] = -df2\n",
    "df2"
   ]
  },
  {
   "cell_type": "markdown",
   "metadata": {},
   "source": [
    "### Dropping\n",
    "\n",
    "N.B.: dropping doesn't act permanently on the DataFrame, i.e. to get that do :\n",
    "```python\n",
    "df = df.drop(....)\n",
    "```"
   ]
  },
  {
   "cell_type": "code",
   "execution_count": 27,
   "metadata": {
    "ExecuteTime": {
     "end_time": "2020-11-13T14:34:25.011005Z",
     "start_time": "2020-11-13T14:34:24.998947Z"
    }
   },
   "outputs": [
    {
     "data": {
      "text/html": [
       "<div>\n",
       "<style scoped>\n",
       "    .dataframe tbody tr th:only-of-type {\n",
       "        vertical-align: middle;\n",
       "    }\n",
       "\n",
       "    .dataframe tbody tr th {\n",
       "        vertical-align: top;\n",
       "    }\n",
       "\n",
       "    .dataframe thead th {\n",
       "        text-align: right;\n",
       "    }\n",
       "</style>\n",
       "<table border=\"1\" class=\"dataframe\">\n",
       "  <thead>\n",
       "    <tr style=\"text-align: right;\">\n",
       "      <th></th>\n",
       "      <th>A</th>\n",
       "      <th>B</th>\n",
       "      <th>C</th>\n",
       "      <th>D</th>\n",
       "      <th>E</th>\n",
       "      <th>cosine</th>\n",
       "    </tr>\n",
       "  </thead>\n",
       "  <tbody>\n",
       "    <tr>\n",
       "      <th>2020-11-09 14:45:00</th>\n",
       "      <td>0.000000</td>\n",
       "      <td>-0.498070</td>\n",
       "      <td>0.972702</td>\n",
       "      <td>5</td>\n",
       "      <td>0.0</td>\n",
       "      <td>1.000000</td>\n",
       "    </tr>\n",
       "    <tr>\n",
       "      <th>2020-11-09 15:45:00</th>\n",
       "      <td>0.705516</td>\n",
       "      <td>-0.527079</td>\n",
       "      <td>0.080333</td>\n",
       "      <td>5</td>\n",
       "      <td>0.5</td>\n",
       "      <td>0.999962</td>\n",
       "    </tr>\n",
       "    <tr>\n",
       "      <th>2020-11-09 16:45:00</th>\n",
       "      <td>-0.930897</td>\n",
       "      <td>-1.420770</td>\n",
       "      <td>1.156429</td>\n",
       "      <td>5</td>\n",
       "      <td>1.0</td>\n",
       "      <td>0.999848</td>\n",
       "    </tr>\n",
       "    <tr>\n",
       "      <th>2020-11-09 17:45:00</th>\n",
       "      <td>0.059253</td>\n",
       "      <td>1.883709</td>\n",
       "      <td>-1.530392</td>\n",
       "      <td>5</td>\n",
       "      <td>1.5</td>\n",
       "      <td>0.999657</td>\n",
       "    </tr>\n",
       "    <tr>\n",
       "      <th>2020-11-09 18:45:00</th>\n",
       "      <td>-1.748583</td>\n",
       "      <td>-1.046712</td>\n",
       "      <td>-0.068438</td>\n",
       "      <td>5</td>\n",
       "      <td>2.0</td>\n",
       "      <td>0.999391</td>\n",
       "    </tr>\n",
       "    <tr>\n",
       "      <th>2020-11-09 19:45:00</th>\n",
       "      <td>-0.697735</td>\n",
       "      <td>-1.157258</td>\n",
       "      <td>0.206006</td>\n",
       "      <td>5</td>\n",
       "      <td>2.5</td>\n",
       "      <td>0.999048</td>\n",
       "    </tr>\n",
       "    <tr>\n",
       "      <th>2020-11-09 20:45:00</th>\n",
       "      <td>-1.514427</td>\n",
       "      <td>-0.007967</td>\n",
       "      <td>0.074549</td>\n",
       "      <td>5</td>\n",
       "      <td>3.0</td>\n",
       "      <td>0.998630</td>\n",
       "    </tr>\n",
       "    <tr>\n",
       "      <th>2020-11-09 21:45:00</th>\n",
       "      <td>1.232187</td>\n",
       "      <td>-0.113355</td>\n",
       "      <td>0.215272</td>\n",
       "      <td>5</td>\n",
       "      <td>3.5</td>\n",
       "      <td>0.998135</td>\n",
       "    </tr>\n",
       "    <tr>\n",
       "      <th>2020-11-09 22:45:00</th>\n",
       "      <td>1.639869</td>\n",
       "      <td>0.360515</td>\n",
       "      <td>0.158677</td>\n",
       "      <td>5</td>\n",
       "      <td>4.0</td>\n",
       "      <td>0.997564</td>\n",
       "    </tr>\n",
       "    <tr>\n",
       "      <th>2020-11-09 23:45:00</th>\n",
       "      <td>2.873189</td>\n",
       "      <td>0.016152</td>\n",
       "      <td>1.507420</td>\n",
       "      <td>5</td>\n",
       "      <td>4.5</td>\n",
       "      <td>0.996917</td>\n",
       "    </tr>\n",
       "  </tbody>\n",
       "</table>\n",
       "</div>"
      ],
      "text/plain": [
       "                            A         B         C  D    E    cosine\n",
       "2020-11-09 14:45:00  0.000000 -0.498070  0.972702  5  0.0  1.000000\n",
       "2020-11-09 15:45:00  0.705516 -0.527079  0.080333  5  0.5  0.999962\n",
       "2020-11-09 16:45:00 -0.930897 -1.420770  1.156429  5  1.0  0.999848\n",
       "2020-11-09 17:45:00  0.059253  1.883709 -1.530392  5  1.5  0.999657\n",
       "2020-11-09 18:45:00 -1.748583 -1.046712 -0.068438  5  2.0  0.999391\n",
       "2020-11-09 19:45:00 -0.697735 -1.157258  0.206006  5  2.5  0.999048\n",
       "2020-11-09 20:45:00 -1.514427 -0.007967  0.074549  5  3.0  0.998630\n",
       "2020-11-09 21:45:00  1.232187 -0.113355  0.215272  5  3.5  0.998135\n",
       "2020-11-09 22:45:00  1.639869  0.360515  0.158677  5  4.0  0.997564\n",
       "2020-11-09 23:45:00  2.873189  0.016152  1.507420  5  4.5  0.996917"
      ]
     },
     "execution_count": 27,
     "metadata": {},
     "output_type": "execute_result"
    }
   ],
   "source": [
    "# Dropping by column\n",
    "df.drop(['E prime'], axis=1)\n",
    "\n",
    "#which is equivalent to\n",
    "df.drop(columns=['E prime'])"
   ]
  },
  {
   "cell_type": "code",
   "execution_count": null,
   "metadata": {},
   "outputs": [],
   "source": [
    "# Dropping by raws\n",
    "# safe and always working\n",
    "df.drop(df.index[[1,2,3,4]])"
   ]
  },
  {
   "cell_type": "code",
   "execution_count": null,
   "metadata": {},
   "outputs": [],
   "source": [
    "# something like df.drop('index_name') \n",
    "# would work but the type of index must be specificed, \n",
    "# in particular with DatetimeIndex\n",
    "df.drop(pd.to_datetime(\"2020-11-09 22:45:00\"))"
   ]
  },
  {
   "cell_type": "markdown",
   "metadata": {},
   "source": [
    "## Missing data\n",
    "\n",
    "pandas primarily uses the value np.nan to represent missing data. It is by default not included in computations."
   ]
  },
  {
   "cell_type": "code",
   "execution_count": null,
   "metadata": {},
   "outputs": [],
   "source": [
    "df_wNan = df[df>0]\n",
    "df_wNan"
   ]
  },
  {
   "cell_type": "code",
   "execution_count": null,
   "metadata": {},
   "outputs": [],
   "source": [
    "# dropping raws with at least a Nan\n",
    "df_wNan.dropna(how='any')"
   ]
  },
  {
   "cell_type": "code",
   "execution_count": null,
   "metadata": {},
   "outputs": [],
   "source": [
    "# getting a mask\n",
    "df_wNan.isna()\n",
    "#df_wNan.notna()"
   ]
  },
  {
   "cell_type": "code",
   "execution_count": null,
   "metadata": {},
   "outputs": [],
   "source": [
    "# filling missing data\n",
    "df_wNan.fillna(value=0)"
   ]
  },
  {
   "cell_type": "markdown",
   "metadata": {},
   "source": [
    "Fill gaps forward or backward by propagating non-NA values forward or backward:"
   ]
  },
  {
   "cell_type": "code",
   "execution_count": null,
   "metadata": {},
   "outputs": [],
   "source": [
    "df_wNan.fillna(method='pad')"
   ]
  },
  {
   "cell_type": "markdown",
   "metadata": {},
   "source": [
    "## Operations\n",
    "\n",
    "Here comes the most relevant advantage of DataFrame. Operations on columns are extremly fast, almost as fast as the actual operation between elements in a raw"
   ]
  },
  {
   "cell_type": "code",
   "execution_count": null,
   "metadata": {},
   "outputs": [],
   "source": [
    "# Some statistics (mean() just as an example)\n",
    "# raws\n",
    "print (df.mean(axis=0),'\\n')\n",
    "# columns\n",
    "print (df.mean(axis=1),'\\n')"
   ]
  },
  {
   "cell_type": "code",
   "execution_count": null,
   "metadata": {},
   "outputs": [],
   "source": [
    "# global operations on columns\n",
    "df.apply(np.cumsum)"
   ]
  },
  {
   "cell_type": "code",
   "execution_count": null,
   "metadata": {},
   "outputs": [],
   "source": [
    "df"
   ]
  },
  {
   "cell_type": "code",
   "execution_count": null,
   "metadata": {},
   "outputs": [],
   "source": [
    "df.apply(lambda x: x.max() - x.min())"
   ]
  },
  {
   "cell_type": "code",
   "execution_count": null,
   "metadata": {},
   "outputs": [],
   "source": [
    "# syntax is as usual similar to that of numpy arrays\n",
    "df['A']+df['B']"
   ]
  },
  {
   "cell_type": "markdown",
   "metadata": {},
   "source": [
    "Let's play it hard and load (in memory) a (relatively) large dataset"
   ]
  },
  {
   "cell_type": "code",
   "execution_count": 3,
   "metadata": {},
   "outputs": [
    {
     "data": {
      "text/html": [
       "<div>\n",
       "<style scoped>\n",
       "    .dataframe tbody tr th:only-of-type {\n",
       "        vertical-align: middle;\n",
       "    }\n",
       "\n",
       "    .dataframe tbody tr th {\n",
       "        vertical-align: top;\n",
       "    }\n",
       "\n",
       "    .dataframe thead th {\n",
       "        text-align: right;\n",
       "    }\n",
       "</style>\n",
       "<table border=\"1\" class=\"dataframe\">\n",
       "  <thead>\n",
       "    <tr style=\"text-align: right;\">\n",
       "      <th></th>\n",
       "      <th>HEAD</th>\n",
       "      <th>FPGA</th>\n",
       "      <th>TDC_CHANNEL</th>\n",
       "      <th>ORBIT_CNT</th>\n",
       "      <th>BX_COUNTER</th>\n",
       "      <th>TDC_MEAS</th>\n",
       "    </tr>\n",
       "  </thead>\n",
       "  <tbody>\n",
       "    <tr>\n",
       "      <th>0</th>\n",
       "      <td>1</td>\n",
       "      <td>0</td>\n",
       "      <td>123</td>\n",
       "      <td>3869200167</td>\n",
       "      <td>2374</td>\n",
       "      <td>26</td>\n",
       "    </tr>\n",
       "    <tr>\n",
       "      <th>1</th>\n",
       "      <td>1</td>\n",
       "      <td>0</td>\n",
       "      <td>124</td>\n",
       "      <td>3869200167</td>\n",
       "      <td>2374</td>\n",
       "      <td>27</td>\n",
       "    </tr>\n",
       "    <tr>\n",
       "      <th>2</th>\n",
       "      <td>1</td>\n",
       "      <td>0</td>\n",
       "      <td>63</td>\n",
       "      <td>3869200167</td>\n",
       "      <td>2553</td>\n",
       "      <td>28</td>\n",
       "    </tr>\n",
       "    <tr>\n",
       "      <th>3</th>\n",
       "      <td>1</td>\n",
       "      <td>0</td>\n",
       "      <td>64</td>\n",
       "      <td>3869200167</td>\n",
       "      <td>2558</td>\n",
       "      <td>19</td>\n",
       "    </tr>\n",
       "    <tr>\n",
       "      <th>4</th>\n",
       "      <td>1</td>\n",
       "      <td>0</td>\n",
       "      <td>64</td>\n",
       "      <td>3869200167</td>\n",
       "      <td>2760</td>\n",
       "      <td>25</td>\n",
       "    </tr>\n",
       "    <tr>\n",
       "      <th>...</th>\n",
       "      <td>...</td>\n",
       "      <td>...</td>\n",
       "      <td>...</td>\n",
       "      <td>...</td>\n",
       "      <td>...</td>\n",
       "      <td>...</td>\n",
       "    </tr>\n",
       "    <tr>\n",
       "      <th>1310715</th>\n",
       "      <td>1</td>\n",
       "      <td>0</td>\n",
       "      <td>62</td>\n",
       "      <td>3869211171</td>\n",
       "      <td>762</td>\n",
       "      <td>14</td>\n",
       "    </tr>\n",
       "    <tr>\n",
       "      <th>1310716</th>\n",
       "      <td>1</td>\n",
       "      <td>1</td>\n",
       "      <td>4</td>\n",
       "      <td>3869211171</td>\n",
       "      <td>763</td>\n",
       "      <td>11</td>\n",
       "    </tr>\n",
       "    <tr>\n",
       "      <th>1310717</th>\n",
       "      <td>1</td>\n",
       "      <td>0</td>\n",
       "      <td>64</td>\n",
       "      <td>3869211171</td>\n",
       "      <td>764</td>\n",
       "      <td>0</td>\n",
       "    </tr>\n",
       "    <tr>\n",
       "      <th>1310718</th>\n",
       "      <td>1</td>\n",
       "      <td>0</td>\n",
       "      <td>139</td>\n",
       "      <td>3869211171</td>\n",
       "      <td>769</td>\n",
       "      <td>0</td>\n",
       "    </tr>\n",
       "    <tr>\n",
       "      <th>1310719</th>\n",
       "      <td>1</td>\n",
       "      <td>0</td>\n",
       "      <td>61</td>\n",
       "      <td>3869211171</td>\n",
       "      <td>762</td>\n",
       "      <td>18</td>\n",
       "    </tr>\n",
       "  </tbody>\n",
       "</table>\n",
       "<p>1310720 rows × 6 columns</p>\n",
       "</div>"
      ],
      "text/plain": [
       "         HEAD  FPGA  TDC_CHANNEL   ORBIT_CNT  BX_COUNTER  TDC_MEAS\n",
       "0           1     0          123  3869200167        2374        26\n",
       "1           1     0          124  3869200167        2374        27\n",
       "2           1     0           63  3869200167        2553        28\n",
       "3           1     0           64  3869200167        2558        19\n",
       "4           1     0           64  3869200167        2760        25\n",
       "...       ...   ...          ...         ...         ...       ...\n",
       "1310715     1     0           62  3869211171         762        14\n",
       "1310716     1     1            4  3869211171         763        11\n",
       "1310717     1     0           64  3869211171         764         0\n",
       "1310718     1     0          139  3869211171         769         0\n",
       "1310719     1     0           61  3869211171         762        18\n",
       "\n",
       "[1310720 rows x 6 columns]"
      ]
     },
     "execution_count": 3,
     "metadata": {},
     "output_type": "execute_result"
    }
   ],
   "source": [
    "# WARNING! link in past notebook was wrong!, (if needed) get the right file from:\n",
    "#!wget https://www.dropbox.com/s/xvjzaxzz3ysphme/data_000637.txt -P ~/data/\n",
    "\n",
    "file_name=\"~/data/data_000637.txt\"\n",
    "data=pd.read_csv(file_name)\n",
    "data"
   ]
  },
  {
   "cell_type": "markdown",
   "metadata": {},
   "source": [
    "Let's now do some operations among (elements of) columns"
   ]
  },
  {
   "cell_type": "code",
   "execution_count": 4,
   "metadata": {},
   "outputs": [],
   "source": [
    "# the one-liner killing it all\n",
    "data['timens']=data['TDC_MEAS']*25/30+data['BX_COUNTER']*25"
   ]
  },
  {
   "cell_type": "code",
   "execution_count": 5,
   "metadata": {},
   "outputs": [
    {
     "ename": "KeyboardInterrupt",
     "evalue": "",
     "output_type": "error",
     "traceback": [
      "\u001b[0;31m----------------------------------------------------------------------\u001b[0m",
      "\u001b[0;31mKeyboardInterrupt\u001b[0m                    Traceback (most recent call last)",
      "\u001b[0;32m<ipython-input-5-c068bba4df3b>\u001b[0m in \u001b[0;36m<module>\u001b[0;34m\u001b[0m\n\u001b[1;32m      6\u001b[0m     \u001b[0;32mreturn\u001b[0m \u001b[0mresult\u001b[0m\u001b[0;34m\u001b[0m\u001b[0;34m\u001b[0m\u001b[0m\n\u001b[1;32m      7\u001b[0m \u001b[0;34m\u001b[0m\u001b[0m\n\u001b[0;32m----> 8\u001b[0;31m \u001b[0mdata\u001b[0m\u001b[0;34m[\u001b[0m\u001b[0;34m'timens'\u001b[0m\u001b[0;34m]\u001b[0m\u001b[0;34m=\u001b[0m\u001b[0mconversion\u001b[0m\u001b[0;34m(\u001b[0m\u001b[0mdata\u001b[0m\u001b[0;34m)\u001b[0m\u001b[0;34m\u001b[0m\u001b[0;34m\u001b[0m\u001b[0m\n\u001b[0m",
      "\u001b[0;32m<ipython-input-5-c068bba4df3b>\u001b[0m in \u001b[0;36mconversion\u001b[0;34m(data)\u001b[0m\n\u001b[1;32m      3\u001b[0m     \u001b[0mresult\u001b[0m\u001b[0;34m=\u001b[0m\u001b[0;34m[\u001b[0m\u001b[0;34m]\u001b[0m\u001b[0;34m\u001b[0m\u001b[0;34m\u001b[0m\u001b[0m\n\u001b[1;32m      4\u001b[0m     \u001b[0;32mfor\u001b[0m \u001b[0mi\u001b[0m \u001b[0;32min\u001b[0m \u001b[0mrange\u001b[0m\u001b[0;34m(\u001b[0m\u001b[0mlen\u001b[0m\u001b[0;34m(\u001b[0m\u001b[0mdata\u001b[0m\u001b[0;34m)\u001b[0m\u001b[0;34m)\u001b[0m\u001b[0;34m:\u001b[0m\u001b[0;34m\u001b[0m\u001b[0;34m\u001b[0m\u001b[0m\n\u001b[0;32m----> 5\u001b[0;31m         \u001b[0mresult\u001b[0m\u001b[0;34m.\u001b[0m\u001b[0mappend\u001b[0m\u001b[0;34m(\u001b[0m\u001b[0mdata\u001b[0m\u001b[0;34m.\u001b[0m\u001b[0mloc\u001b[0m\u001b[0;34m[\u001b[0m\u001b[0mdata\u001b[0m\u001b[0;34m.\u001b[0m\u001b[0mindex\u001b[0m\u001b[0;34m[\u001b[0m\u001b[0mi\u001b[0m\u001b[0;34m]\u001b[0m\u001b[0;34m,\u001b[0m\u001b[0;34m'TDC_MEAS'\u001b[0m\u001b[0;34m]\u001b[0m\u001b[0;34m*\u001b[0m\u001b[0;36m25\u001b[0m\u001b[0;34m/\u001b[0m\u001b[0;36m30.\u001b[0m\u001b[0;34m+\u001b[0m\u001b[0mdata\u001b[0m\u001b[0;34m.\u001b[0m\u001b[0mloc\u001b[0m\u001b[0;34m[\u001b[0m\u001b[0mdata\u001b[0m\u001b[0;34m.\u001b[0m\u001b[0mindex\u001b[0m\u001b[0;34m[\u001b[0m\u001b[0mi\u001b[0m\u001b[0;34m]\u001b[0m\u001b[0;34m,\u001b[0m\u001b[0;34m'BX_COUNTER'\u001b[0m\u001b[0;34m]\u001b[0m\u001b[0;34m*\u001b[0m\u001b[0;36m25\u001b[0m\u001b[0;34m)\u001b[0m\u001b[0;34m\u001b[0m\u001b[0;34m\u001b[0m\u001b[0m\n\u001b[0m\u001b[1;32m      6\u001b[0m     \u001b[0;32mreturn\u001b[0m \u001b[0mresult\u001b[0m\u001b[0;34m\u001b[0m\u001b[0;34m\u001b[0m\u001b[0m\n\u001b[1;32m      7\u001b[0m \u001b[0;34m\u001b[0m\u001b[0m\n",
      "\u001b[0;32m~/.local/lib/python3.8/site-packages/pandas/core/indexing.py\u001b[0m in \u001b[0;36m__getitem__\u001b[0;34m(self, key)\u001b[0m\n\u001b[1;32m    867\u001b[0m             \u001b[0;32mif\u001b[0m \u001b[0mself\u001b[0m\u001b[0;34m.\u001b[0m\u001b[0m_is_scalar_access\u001b[0m\u001b[0;34m(\u001b[0m\u001b[0mkey\u001b[0m\u001b[0;34m)\u001b[0m\u001b[0;34m:\u001b[0m\u001b[0;34m\u001b[0m\u001b[0;34m\u001b[0m\u001b[0m\n\u001b[1;32m    868\u001b[0m                 \u001b[0;32mtry\u001b[0m\u001b[0;34m:\u001b[0m\u001b[0;34m\u001b[0m\u001b[0;34m\u001b[0m\u001b[0m\n\u001b[0;32m--> 869\u001b[0;31m                     \u001b[0;32mreturn\u001b[0m \u001b[0mself\u001b[0m\u001b[0;34m.\u001b[0m\u001b[0mobj\u001b[0m\u001b[0;34m.\u001b[0m\u001b[0m_get_value\u001b[0m\u001b[0;34m(\u001b[0m\u001b[0;34m*\u001b[0m\u001b[0mkey\u001b[0m\u001b[0;34m,\u001b[0m \u001b[0mtakeable\u001b[0m\u001b[0;34m=\u001b[0m\u001b[0mself\u001b[0m\u001b[0;34m.\u001b[0m\u001b[0m_takeable\u001b[0m\u001b[0;34m)\u001b[0m\u001b[0;34m\u001b[0m\u001b[0;34m\u001b[0m\u001b[0m\n\u001b[0m\u001b[1;32m    870\u001b[0m                 \u001b[0;32mexcept\u001b[0m \u001b[0;34m(\u001b[0m\u001b[0mKeyError\u001b[0m\u001b[0;34m,\u001b[0m \u001b[0mIndexError\u001b[0m\u001b[0;34m,\u001b[0m \u001b[0mAttributeError\u001b[0m\u001b[0;34m)\u001b[0m\u001b[0;34m:\u001b[0m\u001b[0;34m\u001b[0m\u001b[0;34m\u001b[0m\u001b[0m\n\u001b[1;32m    871\u001b[0m                     \u001b[0;31m# AttributeError for IntervalTree get_value\u001b[0m\u001b[0;34m\u001b[0m\u001b[0;34m\u001b[0m\u001b[0;34m\u001b[0m\u001b[0m\n",
      "\u001b[0;32m~/.local/lib/python3.8/site-packages/pandas/core/frame.py\u001b[0m in \u001b[0;36m_get_value\u001b[0;34m(self, index, col, takeable)\u001b[0m\n\u001b[1;32m   3008\u001b[0m \u001b[0;34m\u001b[0m\u001b[0m\n\u001b[1;32m   3009\u001b[0m         \u001b[0;32mtry\u001b[0m\u001b[0;34m:\u001b[0m\u001b[0;34m\u001b[0m\u001b[0;34m\u001b[0m\u001b[0m\n\u001b[0;32m-> 3010\u001b[0;31m             \u001b[0mloc\u001b[0m \u001b[0;34m=\u001b[0m \u001b[0mengine\u001b[0m\u001b[0;34m.\u001b[0m\u001b[0mget_loc\u001b[0m\u001b[0;34m(\u001b[0m\u001b[0mindex\u001b[0m\u001b[0;34m)\u001b[0m\u001b[0;34m\u001b[0m\u001b[0;34m\u001b[0m\u001b[0m\n\u001b[0m\u001b[1;32m   3011\u001b[0m             \u001b[0;32mreturn\u001b[0m \u001b[0mseries\u001b[0m\u001b[0;34m.\u001b[0m\u001b[0m_values\u001b[0m\u001b[0;34m[\u001b[0m\u001b[0mloc\u001b[0m\u001b[0;34m]\u001b[0m\u001b[0;34m\u001b[0m\u001b[0;34m\u001b[0m\u001b[0m\n\u001b[1;32m   3012\u001b[0m         \u001b[0;32mexcept\u001b[0m \u001b[0mKeyError\u001b[0m\u001b[0;34m:\u001b[0m\u001b[0;34m\u001b[0m\u001b[0;34m\u001b[0m\u001b[0m\n",
      "\u001b[0;31mKeyboardInterrupt\u001b[0m: "
     ]
    }
   ],
   "source": [
    "# the old slooow way\n",
    "def conversion(data):\n",
    "    result=[]\n",
    "    for i in range(len(data)): \n",
    "        result.append(data.loc[data.index[i],'TDC_MEAS']*25/30.+data.loc[data.index[i],'BX_COUNTER']*25)\n",
    "    return result\n",
    "\n",
    "data['timens']=conversion(data)"
   ]
  },
  {
   "cell_type": "markdown",
   "metadata": {},
   "source": [
    "## Merge\n",
    "\n",
    "pandas provides various facilities for easily combining together Series, DataFrame, and Panel objects with various kinds of set logic for the indexes and relational algebra functionality in the case of join / merge-type operations.\n",
    "\n",
    "### Concat\n",
    "\n",
    "concatenation (adding rows) is straightforward\n"
   ]
  },
  {
   "cell_type": "code",
   "execution_count": null,
   "metadata": {},
   "outputs": [],
   "source": [
    "rdf = pd.DataFrame(np.random.randn(10, 4))\n",
    "rdf"
   ]
  },
  {
   "cell_type": "code",
   "execution_count": null,
   "metadata": {},
   "outputs": [],
   "source": [
    "# divide it into pieaces raw-wise\n",
    "pieces = [rdf[:3], rdf[3:7], rdf[7:]]\n",
    "pieces"
   ]
  },
  {
   "cell_type": "code",
   "execution_count": null,
   "metadata": {},
   "outputs": [],
   "source": [
    "# put it back together\n",
    "#pd.concat(pieces)\n",
    "\n",
    "# indexes can be ignored\n",
    "pd.concat(pieces, ignore_index=True)\n",
    "\n",
    "# in case of dimension mismatch, Nan are added where needed"
   ]
  },
  {
   "cell_type": "code",
   "execution_count": null,
   "metadata": {},
   "outputs": [],
   "source": [
    "# appending a single row (as a Series)\n",
    "s = rdf.iloc[3]\n",
    "rdf.append(s, ignore_index=True)\n",
    "rdf"
   ]
  },
  {
   "cell_type": "markdown",
   "metadata": {},
   "source": [
    "### Merge/Join\n",
    "\n",
    "SQL like operations on table can be performed on DataFrames. This is all rather sophisticated, refer to the [doc](https://pandas.pydata.org/pandas-docs/stable/merging.html#merging) for more info/examples"
   ]
  },
  {
   "cell_type": "code",
   "execution_count": null,
   "metadata": {},
   "outputs": [],
   "source": [
    "left = pd.DataFrame({'key': ['foo', 'bar'], 'lval': [1, 2]})\n",
    "right = pd.DataFrame({'key': ['foo', 'bar'], 'rval': [4, 5]})\n",
    "\n",
    "pd.merge(left,right,on=\"key\")"
   ]
  },
  {
   "cell_type": "markdown",
   "metadata": {},
   "source": [
    "## Grouping\n",
    "\n",
    "By “group by” we are referring to a process involving one or more of the following steps:\n",
    "\n",
    "* Splitting the data into groups based on some criteria\n",
    "* Applying a function to each group independently\n",
    "* Combining the results into a data structure\n"
   ]
  },
  {
   "cell_type": "code",
   "execution_count": null,
   "metadata": {},
   "outputs": [],
   "source": [
    "gdf = pd.DataFrame({'A' : ['foo', 'bar', 'foo', 'bar',\n",
    "                          'foo', 'bar', 'foo', 'foo'],\n",
    "                    'B' : ['one', 'one', 'two', 'three',\n",
    "                           'two', 'two', 'one', 'three'],\n",
    "                    'C' : np.random.randn(8),\n",
    "                    'D' : np.random.randn(8)})\n",
    "gdf"
   ]
  },
  {
   "cell_type": "code",
   "execution_count": null,
   "metadata": {},
   "outputs": [],
   "source": [
    "# Grouping and then applying the sum() \n",
    "# function to the resulting groups (effective only where number are there).\n",
    "gdf.groupby('A').sum()"
   ]
  },
  {
   "cell_type": "markdown",
   "metadata": {},
   "source": [
    "## Multi-indexing\n",
    "\n",
    "\n",
    "Hierarchical / Multi-level indexing allows sophisticated data analysis on higher dimensional data. In essence, it enables you to store and manipulate data with an arbitrary number of dimensions in lower dimensional data structures like Series (1d) and DataFrame (2d)."
   ]
  },
  {
   "cell_type": "code",
   "execution_count": null,
   "metadata": {},
   "outputs": [],
   "source": [
    "tuples = list(zip(['bar', 'bar', 'baz', 'baz', 'foo', 'foo', 'qux', 'qux'],\n",
    "          ['one', 'two', 'one', 'two', 'one', 'two', 'one', 'two']))\n",
    "multi_index = pd.MultiIndex.from_tuples(tuples, names=['first', 'second'])\n",
    "print (multi_index,'\\n')\n",
    "\n",
    "s = pd.Series(np.random.randn(8), index=multi_index)\n",
    "print (s)\n"
   ]
  },
  {
   "cell_type": "code",
   "execution_count": null,
   "metadata": {},
   "outputs": [],
   "source": [
    "# it enables further features of the groupby method,\n",
    "# e.g. when group-by by multiple columns\n",
    "gdf.groupby(['A','B']).sum()"
   ]
  },
  {
   "cell_type": "code",
   "execution_count": null,
   "metadata": {},
   "outputs": [],
   "source": [
    "# stack() method “compresses” a level in the DataFrame’s columns\n",
    "gdf.groupby(['A','B']).sum().stack()"
   ]
  },
  {
   "cell_type": "markdown",
   "metadata": {},
   "source": [
    "## Plotting\n",
    "\n",
    "Just a preview, more on the next lab class!"
   ]
  },
  {
   "cell_type": "code",
   "execution_count": null,
   "metadata": {},
   "outputs": [],
   "source": [
    "ts = pd.Series(np.random.randn(1000), index=pd.date_range('1/1/2000', periods=1000))\n",
    "ts.cumsum().plot()"
   ]
  },
  {
   "cell_type": "code",
   "execution_count": null,
   "metadata": {},
   "outputs": [],
   "source": [
    "import matplotlib.pyplot as plt\n",
    "\n",
    "pdf=pd.DataFrame(np.random.randn(1000, 4), index=ts.index,columns=['A', 'B', 'C', 'D'])\n",
    "df = df.cumsum()\n",
    "plt.figure(); df.plot(); plt.legend(loc='best')"
   ]
  },
  {
   "cell_type": "code",
   "execution_count": null,
   "metadata": {},
   "outputs": [],
   "source": []
  }
 ],
 "metadata": {
  "kernelspec": {
   "display_name": "Python 3",
   "language": "python",
   "name": "python3"
  },
  "language_info": {
   "codemirror_mode": {
    "name": "ipython",
    "version": 3
   },
   "file_extension": ".py",
   "mimetype": "text/x-python",
   "name": "python",
   "nbconvert_exporter": "python",
   "pygments_lexer": "ipython3",
   "version": "3.8.5"
  }
 },
 "nbformat": 4,
 "nbformat_minor": 2
}
